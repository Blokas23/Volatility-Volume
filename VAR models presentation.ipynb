{
 "cells": [
  {
   "cell_type": "code",
   "execution_count": 35,
   "id": "cbc4d1fc",
   "metadata": {},
   "outputs": [],
   "source": [
    "import numpy as np\n",
    "import pandas as pd\n",
    "import statsmodels.api as sm\n",
    "from statsmodels.tsa.api import VAR\n",
    "from statsmodels.tsa.stattools import adfuller\n",
    "from statsmodels.tools.eval_measures import rmse, aic\n",
    "from statsmodels.tsa.stattools import grangercausalitytests\n",
    "from statsmodels.stats.stattools import durbin_watson\n",
    "import seaborn as sns\n",
    "from IPython.core.interactiveshell import InteractiveShell\n",
    "InteractiveShell.ast_node_interactivity = \"all\"\n",
    "import scipy.stats\n",
    "import matplotlib.pyplot as plt\n",
    "from statsmodels.tsa.vector_ar.irf import IRAnalysis\n",
    "import warnings\n",
    "warnings.filterwarnings(\"ignore\", category=Warning)"
   ]
  },
  {
   "cell_type": "code",
   "execution_count": 36,
   "id": "64ec9a4c",
   "metadata": {},
   "outputs": [],
   "source": [
    "# Two Volatility Dataframes, reconstructed and benchmark\n",
    "Volatility = pd.read_csv(\"Volatility.csv\").rename(columns={\"regional_timestamp\":\"Date\"}).set_index(\"Date\")[22:]\n",
    "Benchmark = pd.read_csv(\"Benchmark.csv\").rename(columns={\"regional_timestamp\":\"Date\"}).set_index(\"Date\")[22:]\n",
    "Benchmark = Benchmark.drop(Benchmark.index[~Benchmark.index.isin(Volatility.index)])\n",
    "# Two Volume Dataframes, Front month deseasoned, VolumeOI deseasoned\n",
    "Volume = pd.read_csv(\"Volume1.csv\").rename(columns={\"Unnamed: 0\":\"Date\"}).set_index(\"Date\")[23:]\n",
    "VolumeOI = pd.read_csv(\"VolumeOI.csv\").rename(columns={\"Calendar Day\":\"Date\"}).set_index(\"Date\")[23:]\n",
    "\n",
    "Volatility.index = pd.to_datetime(Volatility.index)\n",
    "Volume.index = pd.to_datetime(Volume.index)\n",
    "Benchmark.index = pd.to_datetime(Benchmark.index)\n",
    "VolumeOI.index = pd.to_datetime(VolumeOI.index)"
   ]
  },
  {
   "cell_type": "code",
   "execution_count": 37,
   "id": "ab8bddf7",
   "metadata": {},
   "outputs": [],
   "source": [
    "Volatility = Volatility.transform(lambda x : x*100)"
   ]
  },
  {
   "cell_type": "code",
   "execution_count": 38,
   "id": "6c68545b",
   "metadata": {},
   "outputs": [
    {
     "data": {
      "text/plain": [
       "(1193, 1193, 1193, 1193)"
      ]
     },
     "execution_count": 38,
     "metadata": {},
     "output_type": "execute_result"
    }
   ],
   "source": [
    "len(Volatility),len(Benchmark),len(Volume),len(VolumeOI)"
   ]
  },
  {
   "cell_type": "code",
   "execution_count": 39,
   "id": "d19b82b7",
   "metadata": {},
   "outputs": [
    {
     "data": {
      "text/html": [
       "<div>\n",
       "<style scoped>\n",
       "    .dataframe tbody tr th:only-of-type {\n",
       "        vertical-align: middle;\n",
       "    }\n",
       "\n",
       "    .dataframe tbody tr th {\n",
       "        vertical-align: top;\n",
       "    }\n",
       "\n",
       "    .dataframe thead th {\n",
       "        text-align: right;\n",
       "    }\n",
       "</style>\n",
       "<table border=\"1\" class=\"dataframe\">\n",
       "  <thead>\n",
       "    <tr style=\"text-align: right;\">\n",
       "      <th></th>\n",
       "      <th>realized_volatility</th>\n",
       "      <th>implied_volatility</th>\n",
       "      <th>difference_lagged</th>\n",
       "      <th>difference</th>\n",
       "    </tr>\n",
       "    <tr>\n",
       "      <th>Date</th>\n",
       "      <th></th>\n",
       "      <th></th>\n",
       "      <th></th>\n",
       "      <th></th>\n",
       "    </tr>\n",
       "  </thead>\n",
       "  <tbody>\n",
       "    <tr>\n",
       "      <th>2017-02-02</th>\n",
       "      <td>8.837903</td>\n",
       "      <td>16.1939</td>\n",
       "      <td>7.626197</td>\n",
       "      <td>7.355997</td>\n",
       "    </tr>\n",
       "  </tbody>\n",
       "</table>\n",
       "</div>"
      ],
      "text/plain": [
       "            realized_volatility  implied_volatility  difference_lagged  \\\n",
       "Date                                                                     \n",
       "2017-02-02             8.837903             16.1939           7.626197   \n",
       "\n",
       "            difference  \n",
       "Date                    \n",
       "2017-02-02    7.355997  "
      ]
     },
     "execution_count": 39,
     "metadata": {},
     "output_type": "execute_result"
    },
    {
     "data": {
      "text/html": [
       "<div>\n",
       "<style scoped>\n",
       "    .dataframe tbody tr th:only-of-type {\n",
       "        vertical-align: middle;\n",
       "    }\n",
       "\n",
       "    .dataframe tbody tr th {\n",
       "        vertical-align: top;\n",
       "    }\n",
       "\n",
       "    .dataframe thead th {\n",
       "        text-align: right;\n",
       "    }\n",
       "</style>\n",
       "<table border=\"1\" class=\"dataframe\">\n",
       "  <thead>\n",
       "    <tr style=\"text-align: right;\">\n",
       "      <th></th>\n",
       "      <th>realized_volatility</th>\n",
       "      <th>implied_volatility</th>\n",
       "      <th>difference_lagged</th>\n",
       "      <th>difference</th>\n",
       "    </tr>\n",
       "    <tr>\n",
       "      <th>Date</th>\n",
       "      <th></th>\n",
       "      <th></th>\n",
       "      <th></th>\n",
       "      <th></th>\n",
       "    </tr>\n",
       "  </thead>\n",
       "  <tbody>\n",
       "    <tr>\n",
       "      <th>2017-02-02</th>\n",
       "      <td>0.600334</td>\n",
       "      <td>0.161939</td>\n",
       "      <td>-0.435693</td>\n",
       "      <td>-0.438395</td>\n",
       "    </tr>\n",
       "  </tbody>\n",
       "</table>\n",
       "</div>"
      ],
      "text/plain": [
       "            realized_volatility  implied_volatility  difference_lagged  \\\n",
       "Date                                                                     \n",
       "2017-02-02             0.600334            0.161939          -0.435693   \n",
       "\n",
       "            difference  \n",
       "Date                    \n",
       "2017-02-02   -0.438395  "
      ]
     },
     "execution_count": 39,
     "metadata": {},
     "output_type": "execute_result"
    },
    {
     "data": {
      "text/html": [
       "<div>\n",
       "<style scoped>\n",
       "    .dataframe tbody tr th:only-of-type {\n",
       "        vertical-align: middle;\n",
       "    }\n",
       "\n",
       "    .dataframe tbody tr th {\n",
       "        vertical-align: top;\n",
       "    }\n",
       "\n",
       "    .dataframe thead th {\n",
       "        text-align: right;\n",
       "    }\n",
       "</style>\n",
       "<table border=\"1\" class=\"dataframe\">\n",
       "  <thead>\n",
       "    <tr style=\"text-align: right;\">\n",
       "      <th></th>\n",
       "      <th>Volume</th>\n",
       "    </tr>\n",
       "    <tr>\n",
       "      <th>Date</th>\n",
       "      <th></th>\n",
       "    </tr>\n",
       "  </thead>\n",
       "  <tbody>\n",
       "    <tr>\n",
       "      <th>2017-02-02</th>\n",
       "      <td>-23537.995587</td>\n",
       "    </tr>\n",
       "  </tbody>\n",
       "</table>\n",
       "</div>"
      ],
      "text/plain": [
       "                  Volume\n",
       "Date                    \n",
       "2017-02-02 -23537.995587"
      ]
     },
     "execution_count": 39,
     "metadata": {},
     "output_type": "execute_result"
    },
    {
     "data": {
      "text/html": [
       "<div>\n",
       "<style scoped>\n",
       "    .dataframe tbody tr th:only-of-type {\n",
       "        vertical-align: middle;\n",
       "    }\n",
       "\n",
       "    .dataframe tbody tr th {\n",
       "        vertical-align: top;\n",
       "    }\n",
       "\n",
       "    .dataframe thead th {\n",
       "        text-align: right;\n",
       "    }\n",
       "</style>\n",
       "<table border=\"1\" class=\"dataframe\">\n",
       "  <thead>\n",
       "    <tr style=\"text-align: right;\">\n",
       "      <th></th>\n",
       "      <th>Volume</th>\n",
       "    </tr>\n",
       "    <tr>\n",
       "      <th>Date</th>\n",
       "      <th></th>\n",
       "    </tr>\n",
       "  </thead>\n",
       "  <tbody>\n",
       "    <tr>\n",
       "      <th>2017-02-02</th>\n",
       "      <td>-0.037618</td>\n",
       "    </tr>\n",
       "  </tbody>\n",
       "</table>\n",
       "</div>"
      ],
      "text/plain": [
       "              Volume\n",
       "Date                \n",
       "2017-02-02 -0.037618"
      ]
     },
     "execution_count": 39,
     "metadata": {},
     "output_type": "execute_result"
    }
   ],
   "source": [
    "Volatility.head(1)\n",
    "Benchmark.head(1)\n",
    "Volume.head(1)\n",
    "VolumeOI.head(1)"
   ]
  },
  {
   "cell_type": "markdown",
   "id": "36df7d9e",
   "metadata": {},
   "source": [
    "# VAR Model 1\n",
    "- Front Month Volume\n",
    "- Volatility 3 ways, our calculation.\n",
    "----------------------------------\n",
    "1. Implied + Realized\n",
    "2. Difference without lag\n",
    "3. Difference with lag"
   ]
  },
  {
   "cell_type": "code",
   "execution_count": 40,
   "id": "8f099bc6",
   "metadata": {},
   "outputs": [],
   "source": [
    "VAR_data1 = pd.concat([Volume, Volatility], axis=1)\n",
    "VAR_data1_diff_nolag = VAR_data1.drop(columns=[\"realized_volatility\",\"implied_volatility\",'difference_lagged'],inplace=False)\n",
    "VAR_data1_diff_lag = VAR_data1.drop(columns=[\"realized_volatility\",\"implied_volatility\",'difference'],inplace=False)\n",
    "VAR_data1.drop(columns=[\"difference\",\"difference_lagged\"],inplace=True)"
   ]
  },
  {
   "cell_type": "code",
   "execution_count": 41,
   "id": "36670987",
   "metadata": {},
   "outputs": [
    {
     "data": {
      "text/html": [
       "<div>\n",
       "<style scoped>\n",
       "    .dataframe tbody tr th:only-of-type {\n",
       "        vertical-align: middle;\n",
       "    }\n",
       "\n",
       "    .dataframe tbody tr th {\n",
       "        vertical-align: top;\n",
       "    }\n",
       "\n",
       "    .dataframe thead th {\n",
       "        text-align: right;\n",
       "    }\n",
       "</style>\n",
       "<table border=\"1\" class=\"dataframe\">\n",
       "  <thead>\n",
       "    <tr style=\"text-align: right;\">\n",
       "      <th></th>\n",
       "      <th>Volume</th>\n",
       "      <th>realized_volatility</th>\n",
       "      <th>implied_volatility</th>\n",
       "    </tr>\n",
       "    <tr>\n",
       "      <th>Date</th>\n",
       "      <th></th>\n",
       "      <th></th>\n",
       "      <th></th>\n",
       "    </tr>\n",
       "  </thead>\n",
       "  <tbody>\n",
       "    <tr>\n",
       "      <th>2017-02-02</th>\n",
       "      <td>-23537.995587</td>\n",
       "      <td>8.837903</td>\n",
       "      <td>16.1939</td>\n",
       "    </tr>\n",
       "  </tbody>\n",
       "</table>\n",
       "</div>"
      ],
      "text/plain": [
       "                  Volume  realized_volatility  implied_volatility\n",
       "Date                                                             \n",
       "2017-02-02 -23537.995587             8.837903             16.1939"
      ]
     },
     "execution_count": 41,
     "metadata": {},
     "output_type": "execute_result"
    },
    {
     "data": {
      "text/html": [
       "<div>\n",
       "<style scoped>\n",
       "    .dataframe tbody tr th:only-of-type {\n",
       "        vertical-align: middle;\n",
       "    }\n",
       "\n",
       "    .dataframe tbody tr th {\n",
       "        vertical-align: top;\n",
       "    }\n",
       "\n",
       "    .dataframe thead th {\n",
       "        text-align: right;\n",
       "    }\n",
       "</style>\n",
       "<table border=\"1\" class=\"dataframe\">\n",
       "  <thead>\n",
       "    <tr style=\"text-align: right;\">\n",
       "      <th></th>\n",
       "      <th>Volume</th>\n",
       "      <th>difference</th>\n",
       "    </tr>\n",
       "    <tr>\n",
       "      <th>Date</th>\n",
       "      <th></th>\n",
       "      <th></th>\n",
       "    </tr>\n",
       "  </thead>\n",
       "  <tbody>\n",
       "    <tr>\n",
       "      <th>2017-02-02</th>\n",
       "      <td>-23537.995587</td>\n",
       "      <td>7.355997</td>\n",
       "    </tr>\n",
       "  </tbody>\n",
       "</table>\n",
       "</div>"
      ],
      "text/plain": [
       "                  Volume  difference\n",
       "Date                                \n",
       "2017-02-02 -23537.995587    7.355997"
      ]
     },
     "execution_count": 41,
     "metadata": {},
     "output_type": "execute_result"
    },
    {
     "data": {
      "text/html": [
       "<div>\n",
       "<style scoped>\n",
       "    .dataframe tbody tr th:only-of-type {\n",
       "        vertical-align: middle;\n",
       "    }\n",
       "\n",
       "    .dataframe tbody tr th {\n",
       "        vertical-align: top;\n",
       "    }\n",
       "\n",
       "    .dataframe thead th {\n",
       "        text-align: right;\n",
       "    }\n",
       "</style>\n",
       "<table border=\"1\" class=\"dataframe\">\n",
       "  <thead>\n",
       "    <tr style=\"text-align: right;\">\n",
       "      <th></th>\n",
       "      <th>Volume</th>\n",
       "      <th>difference_lagged</th>\n",
       "    </tr>\n",
       "    <tr>\n",
       "      <th>Date</th>\n",
       "      <th></th>\n",
       "      <th></th>\n",
       "    </tr>\n",
       "  </thead>\n",
       "  <tbody>\n",
       "    <tr>\n",
       "      <th>2017-02-02</th>\n",
       "      <td>-23537.995587</td>\n",
       "      <td>7.626197</td>\n",
       "    </tr>\n",
       "  </tbody>\n",
       "</table>\n",
       "</div>"
      ],
      "text/plain": [
       "                  Volume  difference_lagged\n",
       "Date                                       \n",
       "2017-02-02 -23537.995587           7.626197"
      ]
     },
     "execution_count": 41,
     "metadata": {},
     "output_type": "execute_result"
    }
   ],
   "source": [
    "VAR_data1.head(1)\n",
    "VAR_data1_diff_nolag.head(1)\n",
    "VAR_data1_diff_lag.head(1)"
   ]
  },
  {
   "cell_type": "code",
   "execution_count": 42,
   "id": "27c50cc6",
   "metadata": {},
   "outputs": [
    {
     "data": {
      "text/html": [
       "<table class=\"simpletable\">\n",
       "<caption>VAR Order Selection (* highlights the minimums)</caption>\n",
       "<tr>\n",
       "   <td></td>      <th>AIC</th>         <th>BIC</th>         <th>FPE</th>        <th>HQIC</th>    \n",
       "</tr>\n",
       "<tr>\n",
       "  <th>0</th>  <td>     32.39</td>  <td>     32.40</td>  <td> 1.162e+14</td>  <td>     32.39</td> \n",
       "</tr>\n",
       "<tr>\n",
       "  <th>1</th>  <td>     28.57</td>  <td>     28.62</td>  <td> 2.554e+12</td>  <td>     28.59</td> \n",
       "</tr>\n",
       "<tr>\n",
       "  <th>2</th>  <td>     28.51</td>  <td>     28.60*</td> <td> 2.418e+12</td>  <td>     28.55</td> \n",
       "</tr>\n",
       "<tr>\n",
       "  <th>3</th>  <td>     28.49</td>  <td>     28.62</td>  <td> 2.356e+12</td>  <td>     28.54</td> \n",
       "</tr>\n",
       "<tr>\n",
       "  <th>4</th>  <td>     28.47</td>  <td>     28.64</td>  <td> 2.317e+12</td>  <td>     28.53</td> \n",
       "</tr>\n",
       "<tr>\n",
       "  <th>5</th>  <td>     28.44</td>  <td>     28.65</td>  <td> 2.242e+12</td>  <td>     28.52</td> \n",
       "</tr>\n",
       "<tr>\n",
       "  <th>6</th>  <td>     28.42</td>  <td>     28.66</td>  <td> 2.196e+12</td>  <td>     28.51</td> \n",
       "</tr>\n",
       "<tr>\n",
       "  <th>7</th>  <td>     28.38</td>  <td>     28.67</td>  <td> 2.118e+12</td>  <td>     28.49*</td>\n",
       "</tr>\n",
       "<tr>\n",
       "  <th>8</th>  <td>     28.38</td>  <td>     28.70</td>  <td> 2.119e+12</td>  <td>     28.50</td> \n",
       "</tr>\n",
       "<tr>\n",
       "  <th>9</th>  <td>     28.38</td>  <td>     28.74</td>  <td> 2.117e+12</td>  <td>     28.52</td> \n",
       "</tr>\n",
       "<tr>\n",
       "  <th>10</th> <td>     28.37</td>  <td>     28.77</td>  <td> 2.101e+12</td>  <td>     28.52</td> \n",
       "</tr>\n",
       "<tr>\n",
       "  <th>11</th> <td>     28.37*</td> <td>     28.81</td>  <td> 2.088e+12*</td> <td>     28.53</td> \n",
       "</tr>\n",
       "<tr>\n",
       "  <th>12</th> <td>     28.37</td>  <td>     28.85</td>  <td> 2.098e+12</td>  <td>     28.55</td> \n",
       "</tr>\n",
       "<tr>\n",
       "  <th>13</th> <td>     28.38</td>  <td>     28.90</td>  <td> 2.116e+12</td>  <td>     28.58</td> \n",
       "</tr>\n",
       "<tr>\n",
       "  <th>14</th> <td>     28.38</td>  <td>     28.94</td>  <td> 2.125e+12</td>  <td>     28.59</td> \n",
       "</tr>\n",
       "<tr>\n",
       "  <th>15</th> <td>     28.39</td>  <td>     28.99</td>  <td> 2.143e+12</td>  <td>     28.62</td> \n",
       "</tr>\n",
       "</table>"
      ],
      "text/plain": [
       "<class 'statsmodels.iolib.table.SimpleTable'>"
      ]
     },
     "execution_count": 42,
     "metadata": {},
     "output_type": "execute_result"
    }
   ],
   "source": [
    "model = VAR(VAR_data1)\n",
    "x = model.select_order(maxlags=15)\n",
    "x.summary()"
   ]
  },
  {
   "cell_type": "code",
   "execution_count": 34,
   "id": "618643d6",
   "metadata": {},
   "outputs": [
    {
     "data": {
      "text/plain": [
       "  Summary of Regression Results   \n",
       "==================================\n",
       "Model:                         VAR\n",
       "Method:                        OLS\n",
       "Date:           Tue, 21, Dec, 2021\n",
       "Time:                     07:48:24\n",
       "--------------------------------------------------------------------\n",
       "No. of Equations:         3.00000    BIC:                    29.1169\n",
       "Nobs:                     1192.00    HQIC:                   29.0850\n",
       "Log likelihood:          -22385.3    FPE:                4.19845e+12\n",
       "AIC:                      29.0657    Det(Omega_mle):     4.15646e+12\n",
       "--------------------------------------------------------------------\n",
       "Results for equation Volume\n",
       "=========================================================================================\n",
       "                            coefficient       std. error           t-stat            prob\n",
       "-----------------------------------------------------------------------------------------\n",
       "const                     -46710.914495     27184.014501           -1.718           0.086\n",
       "L1.Volume                      0.625156         0.029920           20.894           0.000\n",
       "L1.realized_volatility      4646.635231      1794.998193            2.589           0.010\n",
       "L1.implied_volatility       -498.401776      1250.879491           -0.398           0.690\n",
       "=========================================================================================\n",
       "\n",
       "Results for equation realized_volatility\n",
       "=========================================================================================\n",
       "                            coefficient       std. error           t-stat            prob\n",
       "-----------------------------------------------------------------------------------------\n",
       "const                          1.331371         0.346754            3.840           0.000\n",
       "L1.Volume                     -0.000000         0.000000           -0.198           0.843\n",
       "L1.realized_volatility         0.837104         0.022897           36.560           0.000\n",
       "L1.implied_volatility          0.032803         0.015956            2.056           0.040\n",
       "=========================================================================================\n",
       "\n",
       "Results for equation implied_volatility\n",
       "=========================================================================================\n",
       "                            coefficient       std. error           t-stat            prob\n",
       "-----------------------------------------------------------------------------------------\n",
       "const                          0.239292         0.152757            1.566           0.117\n",
       "L1.Volume                     -0.000000         0.000000           -1.721           0.085\n",
       "L1.realized_volatility         0.036751         0.010087            3.644           0.000\n",
       "L1.implied_volatility          0.964234         0.007029          137.176           0.000\n",
       "=========================================================================================\n",
       "\n",
       "Correlation matrix of residuals\n",
       "                         Volume  realized_volatility  implied_volatility\n",
       "Volume                 1.000000             0.669984           -0.026950\n",
       "realized_volatility    0.669984             1.000000            0.036428\n",
       "implied_volatility    -0.026950             0.036428            1.000000\n",
       "\n"
      ]
     },
     "execution_count": 34,
     "metadata": {},
     "output_type": "execute_result"
    }
   ],
   "source": [
    "model_fitted = model.fit(1)\n",
    "model_fitted.summary()"
   ]
  },
  {
   "cell_type": "code",
   "execution_count": 10,
   "id": "66bc6886",
   "metadata": {},
   "outputs": [
    {
     "data": {
      "text/plain": [
       "(array([-2.,  0.,  2.,  4.,  6.,  8., 10., 12.]),\n",
       " [Text(-2.0, 0, '−2'),\n",
       "  Text(0.0, 0, '0'),\n",
       "  Text(2.0, 0, '2'),\n",
       "  Text(4.0, 0, '4'),\n",
       "  Text(6.0, 0, '6'),\n",
       "  Text(8.0, 0, '8'),\n",
       "  Text(10.0, 0, '10'),\n",
       "  Text(12.0, 0, '12')])"
      ]
     },
     "execution_count": 10,
     "metadata": {},
     "output_type": "execute_result"
    },
    {
     "data": {
      "text/plain": [
       "(array([-10000.,  -5000.,      0.,   5000.,  10000.,  15000.,  20000.,\n",
       "         25000.,  30000.]),\n",
       " [Text(0, -10000.0, '−10000'),\n",
       "  Text(0, -5000.0, '−5000'),\n",
       "  Text(0, 0.0, '0'),\n",
       "  Text(0, 5000.0, '5000'),\n",
       "  Text(0, 10000.0, '10000'),\n",
       "  Text(0, 15000.0, '15000'),\n",
       "  Text(0, 20000.0, '20000'),\n",
       "  Text(0, 25000.0, '25000'),\n",
       "  Text(0, 30000.0, '30000')])"
      ]
     },
     "execution_count": 10,
     "metadata": {},
     "output_type": "execute_result"
    },
    {
     "data": {
      "image/png": "[encoded data removed]",
      "text/plain": [
       "<Figure size 504x360 with 1 Axes>"
      ]
     },
     "metadata": {
      "needs_background": "light"
     },
     "output_type": "display_data"
    }
   ],
   "source": [
    "Impulse1 = IRAnalysis(model_fitted)\n",
    "fig = Impulse1.plot(impulse='implied_volatility',response='Volume',figsize=(8,6));\n",
    "fig.tight_layout()\n",
    "fig.set_figheight(5)\n",
    "fig.set_figwidth(7)\n",
    "plt.xticks(fontsize=12, rotation=0);\n",
    "plt.yticks(fontsize=12, rotation=90);\n",
    "plt.savefig('ImpulseImplied.png', bbox_inches='tight')"
   ]
  },
  {
   "cell_type": "code",
   "execution_count": 11,
   "id": "5776ca53",
   "metadata": {},
   "outputs": [
    {
     "data": {
      "image/png": "[encoded data removed]",
      "text/plain": [
       "<Figure size 720x720 with 1 Axes>"
      ]
     },
     "metadata": {
      "needs_background": "light"
     },
     "output_type": "display_data"
    }
   ],
   "source": [
    "Impulse1.plot_cum_effects(impulse='implied_volatility',response='Volume');\n",
    "plt.savefig('ImpulseImpliedCUM.png', bbox_inches='tight');"
   ]
  },
  {
   "cell_type": "code",
   "execution_count": 12,
   "id": "efe4c68b",
   "metadata": {
    "scrolled": false
   },
   "outputs": [
    {
     "data": {
      "text/plain": [
       "(array([-2.,  0.,  2.,  4.,  6.,  8., 10., 12.]),\n",
       " [Text(-2.0, 0, '−2'),\n",
       "  Text(0.0, 0, '0'),\n",
       "  Text(2.0, 0, '2'),\n",
       "  Text(4.0, 0, '4'),\n",
       "  Text(6.0, 0, '6'),\n",
       "  Text(8.0, 0, '8'),\n",
       "  Text(10.0, 0, '10'),\n",
       "  Text(12.0, 0, '12')])"
      ]
     },
     "execution_count": 12,
     "metadata": {},
     "output_type": "execute_result"
    },
    {
     "data": {
      "text/plain": [
       "(array([-15000., -10000.,  -5000.,      0.,   5000.,  10000.,  15000.]),\n",
       " [Text(0, -15000.0, '−15000'),\n",
       "  Text(0, -10000.0, '−10000'),\n",
       "  Text(0, -5000.0, '−5000'),\n",
       "  Text(0, 0.0, '0'),\n",
       "  Text(0, 5000.0, '5000'),\n",
       "  Text(0, 10000.0, '10000'),\n",
       "  Text(0, 15000.0, '15000')])"
      ]
     },
     "execution_count": 12,
     "metadata": {},
     "output_type": "execute_result"
    },
    {
     "data": {
      "image/png": "[encoded data removed]",
      "text/plain": [
       "<Figure size 504x360 with 1 Axes>"
      ]
     },
     "metadata": {
      "needs_background": "light"
     },
     "output_type": "display_data"
    }
   ],
   "source": [
    "fig = Impulse1.plot(impulse='realized_volatility',response='Volume',figsize=(8,6));\n",
    "fig.tight_layout()\n",
    "fig.set_figheight(5)\n",
    "fig.set_figwidth(7)\n",
    "plt.xticks(fontsize=12, rotation=0);\n",
    "plt.yticks(fontsize=12, rotation=90);\n",
    "plt.savefig('ImpulseRealized.png', bbox_inches='tight')"
   ]
  },
  {
   "cell_type": "code",
   "execution_count": 13,
   "id": "304ce15c",
   "metadata": {},
   "outputs": [
    {
     "data": {
      "image/png": "[encoded data removed]",
      "text/plain": [
       "<Figure size 720x720 with 1 Axes>"
      ]
     },
     "execution_count": 13,
     "metadata": {},
     "output_type": "execute_result"
    },
    {
     "data": {
      "image/png": "[encoded data removed]",
      "text/plain": [
       "<Figure size 720x720 with 1 Axes>"
      ]
     },
     "metadata": {
      "needs_background": "light"
     },
     "output_type": "display_data"
    }
   ],
   "source": [
    "Impulse1.plot_cum_effects(impulse='realized_volatility',response='Volume');\n",
    "plt.savefig('ImpulseRealizedCUM.png', bbox_inches='tight')"
   ]
  },
  {
   "cell_type": "code",
   "execution_count": 14,
   "id": "3d6df045",
   "metadata": {},
   "outputs": [
    {
     "data": {
      "text/html": [
       "<table class=\"simpletable\">\n",
       "<caption>VAR Order Selection (* highlights the minimums)</caption>\n",
       "<tr>\n",
       "   <td></td>      <th>AIC</th>         <th>BIC</th>         <th>FPE</th>        <th>HQIC</th>    \n",
       "</tr>\n",
       "<tr>\n",
       "  <th>0</th>  <td>     28.84</td>  <td>     28.85</td>  <td> 3.366e+12</td>  <td>     28.85</td> \n",
       "</tr>\n",
       "<tr>\n",
       "  <th>1</th>  <td>     27.64</td>  <td>     27.67</td>  <td> 1.012e+12</td>  <td>     27.65</td> \n",
       "</tr>\n",
       "<tr>\n",
       "  <th>2</th>  <td>     27.59</td>  <td>     27.63</td>  <td> 9.584e+11</td>  <td>     27.60</td> \n",
       "</tr>\n",
       "<tr>\n",
       "  <th>3</th>  <td>     27.54</td>  <td>     27.60</td>  <td> 9.168e+11</td>  <td>     27.57</td> \n",
       "</tr>\n",
       "<tr>\n",
       "  <th>4</th>  <td>     27.52</td>  <td>     27.60</td>  <td> 8.981e+11</td>  <td>     27.55</td> \n",
       "</tr>\n",
       "<tr>\n",
       "  <th>5</th>  <td>     27.49</td>  <td>     27.58</td>  <td> 8.665e+11</td>  <td>     27.52</td> \n",
       "</tr>\n",
       "<tr>\n",
       "  <th>6</th>  <td>     27.47</td>  <td>     27.58</td>  <td> 8.516e+11</td>  <td>     27.51</td> \n",
       "</tr>\n",
       "<tr>\n",
       "  <th>7</th>  <td>     27.44</td>  <td>     27.56*</td> <td> 8.221e+11</td>  <td>     27.48*</td>\n",
       "</tr>\n",
       "<tr>\n",
       "  <th>8</th>  <td>     27.43</td>  <td>     27.58</td>  <td> 8.169e+11</td>  <td>     27.48</td> \n",
       "</tr>\n",
       "<tr>\n",
       "  <th>9</th>  <td>     27.43</td>  <td>     27.59</td>  <td> 8.142e+11</td>  <td>     27.49</td> \n",
       "</tr>\n",
       "<tr>\n",
       "  <th>10</th> <td>     27.42</td>  <td>     27.60</td>  <td> 8.107e+11</td>  <td>     27.49</td> \n",
       "</tr>\n",
       "<tr>\n",
       "  <th>11</th> <td>     27.42*</td> <td>     27.62</td>  <td> 8.081e+11*</td> <td>     27.49</td> \n",
       "</tr>\n",
       "<tr>\n",
       "  <th>12</th> <td>     27.42</td>  <td>     27.64</td>  <td> 8.099e+11</td>  <td>     27.50</td> \n",
       "</tr>\n",
       "<tr>\n",
       "  <th>13</th> <td>     27.42</td>  <td>     27.66</td>  <td> 8.121e+11</td>  <td>     27.51</td> \n",
       "</tr>\n",
       "<tr>\n",
       "  <th>14</th> <td>     27.42</td>  <td>     27.67</td>  <td> 8.102e+11</td>  <td>     27.51</td> \n",
       "</tr>\n",
       "<tr>\n",
       "  <th>15</th> <td>     27.42</td>  <td>     27.69</td>  <td> 8.137e+11</td>  <td>     27.53</td> \n",
       "</tr>\n",
       "</table>"
      ],
      "text/plain": [
       "<class 'statsmodels.iolib.table.SimpleTable'>"
      ]
     },
     "execution_count": 14,
     "metadata": {},
     "output_type": "execute_result"
    }
   ],
   "source": [
    "model = VAR(VAR_data1_diff_nolag)\n",
    "x = model.select_order(maxlags=15)\n",
    "x.summary()"
   ]
  },
  {
   "cell_type": "code",
   "execution_count": 15,
   "id": "83235163",
   "metadata": {},
   "outputs": [
    {
     "data": {
      "text/plain": [
       "  Summary of Regression Results   \n",
       "==================================\n",
       "Model:                         VAR\n",
       "Method:                        OLS\n",
       "Date:           Tue, 21, Dec, 2021\n",
       "Time:                     07:06:47\n",
       "--------------------------------------------------------------------\n",
       "No. of Equations:         2.00000    BIC:                    27.6183\n",
       "Nobs:                     1191.00    HQIC:                   27.5917\n",
       "Log likelihood:          -19791.2    FPE:                9.46116e+11\n",
       "AIC:                      27.5756    Det(Omega_mle):     9.38222e+11\n",
       "--------------------------------------------------------------------\n",
       "Results for equation Volume\n",
       "================================================================================\n",
       "                   coefficient       std. error           t-stat            prob\n",
       "--------------------------------------------------------------------------------\n",
       "const            -62082.327227     21754.117656           -2.854           0.004\n",
       "L1.Volume             0.697782         0.033693           20.710           0.000\n",
       "L1.difference     14901.367632      3266.060007            4.562           0.000\n",
       "L2.Volume             0.023379         0.033875            0.690           0.490\n",
       "L2.difference     -6146.640812      3230.667618           -1.903           0.057\n",
       "================================================================================\n",
       "\n",
       "Results for equation difference\n",
       "================================================================================\n",
       "                   coefficient       std. error           t-stat            prob\n",
       "--------------------------------------------------------------------------------\n",
       "const                 2.305029         0.218331           10.558           0.000\n",
       "L1.Volume             0.000001         0.000000            1.980           0.048\n",
       "L1.difference         0.429939         0.032779           13.116           0.000\n",
       "L2.Volume             0.000000         0.000000            0.669           0.504\n",
       "L2.difference         0.244197         0.032424            7.531           0.000\n",
       "================================================================================\n",
       "\n",
       "Correlation matrix of residuals\n",
       "                Volume  difference\n",
       "Volume        1.000000   -0.505667\n",
       "difference   -0.505667    1.000000\n",
       "\n"
      ]
     },
     "execution_count": 15,
     "metadata": {},
     "output_type": "execute_result"
    }
   ],
   "source": [
    "model_fitted = model.fit(2)\n",
    "model_fitted.summary()"
   ]
  },
  {
   "cell_type": "code",
   "execution_count": 16,
   "id": "4d4b6d44",
   "metadata": {},
   "outputs": [
    {
     "data": {
      "text/plain": [
       "(array([-2.,  0.,  2.,  4.,  6.,  8., 10., 12.]),\n",
       " [Text(-2.0, 0, '−2'),\n",
       "  Text(0.0, 0, '0'),\n",
       "  Text(2.0, 0, '2'),\n",
       "  Text(4.0, 0, '4'),\n",
       "  Text(6.0, 0, '6'),\n",
       "  Text(8.0, 0, '8'),\n",
       "  Text(10.0, 0, '10'),\n",
       "  Text(12.0, 0, '12')])"
      ]
     },
     "execution_count": 16,
     "metadata": {},
     "output_type": "execute_result"
    },
    {
     "data": {
      "text/plain": [
       "(array([-5000.,     0.,  5000., 10000., 15000., 20000., 25000.]),\n",
       " [Text(0, -5000.0, '−5000'),\n",
       "  Text(0, 0.0, '0'),\n",
       "  Text(0, 5000.0, '5000'),\n",
       "  Text(0, 10000.0, '10000'),\n",
       "  Text(0, 15000.0, '15000'),\n",
       "  Text(0, 20000.0, '20000'),\n",
       "  Text(0, 25000.0, '25000')])"
      ]
     },
     "execution_count": 16,
     "metadata": {},
     "output_type": "execute_result"
    },
    {
     "data": {
      "image/png": "[encoded data removed]",
      "text/plain": [
       "<Figure size 504x360 with 1 Axes>"
      ]
     },
     "metadata": {
      "needs_background": "light"
     },
     "output_type": "display_data"
    }
   ],
   "source": [
    "Impulse2 = IRAnalysis(model_fitted)\n",
    "fig = Impulse2.plot(impulse='difference',response='Volume',figsize=(8,6));\n",
    "fig.tight_layout()\n",
    "fig.set_figheight(5)\n",
    "fig.set_figwidth(7)\n",
    "plt.xticks(fontsize=12, rotation=0);\n",
    "plt.yticks(fontsize=12, rotation=90);\n",
    "plt.savefig('ImpulseDifference.png', bbox_inches='tight')"
   ]
  },
  {
   "cell_type": "code",
   "execution_count": 17,
   "id": "13b03c00",
   "metadata": {},
   "outputs": [
    {
     "data": {
      "text/html": [
       "<table class=\"simpletable\">\n",
       "<caption>VAR Order Selection (* highlights the minimums)</caption>\n",
       "<tr>\n",
       "   <td></td>      <th>AIC</th>         <th>BIC</th>         <th>FPE</th>        <th>HQIC</th>    \n",
       "</tr>\n",
       "<tr>\n",
       "  <th>0</th>  <td>     30.33</td>  <td>     30.34</td>  <td> 1.490e+13</td>  <td>     30.34</td> \n",
       "</tr>\n",
       "<tr>\n",
       "  <th>1</th>  <td>     28.10</td>  <td>     28.13</td>  <td> 1.603e+12</td>  <td>     28.11</td> \n",
       "</tr>\n",
       "<tr>\n",
       "  <th>2</th>  <td>     28.04</td>  <td>     28.09*</td> <td> 1.512e+12</td>  <td>     28.06</td> \n",
       "</tr>\n",
       "<tr>\n",
       "  <th>3</th>  <td>     28.04</td>  <td>     28.10</td>  <td> 1.504e+12</td>  <td>     28.06</td> \n",
       "</tr>\n",
       "<tr>\n",
       "  <th>4</th>  <td>     28.03</td>  <td>     28.11</td>  <td> 1.493e+12</td>  <td>     28.06</td> \n",
       "</tr>\n",
       "<tr>\n",
       "  <th>5</th>  <td>     28.04</td>  <td>     28.13</td>  <td> 1.501e+12</td>  <td>     28.07</td> \n",
       "</tr>\n",
       "<tr>\n",
       "  <th>6</th>  <td>     28.03</td>  <td>     28.14</td>  <td> 1.490e+12</td>  <td>     28.07</td> \n",
       "</tr>\n",
       "<tr>\n",
       "  <th>7</th>  <td>     28.00</td>  <td>     28.13</td>  <td> 1.444e+12</td>  <td>     28.05*</td>\n",
       "</tr>\n",
       "<tr>\n",
       "  <th>8</th>  <td>     28.00</td>  <td>     28.15</td>  <td> 1.445e+12</td>  <td>     28.05</td> \n",
       "</tr>\n",
       "<tr>\n",
       "  <th>9</th>  <td>     28.00</td>  <td>     28.17</td>  <td> 1.449e+12</td>  <td>     28.06</td> \n",
       "</tr>\n",
       "<tr>\n",
       "  <th>10</th> <td>     28.00</td>  <td>     28.18</td>  <td> 1.443e+12</td>  <td>     28.07</td> \n",
       "</tr>\n",
       "<tr>\n",
       "  <th>11</th> <td>     27.99*</td> <td>     28.19</td>  <td> 1.436e+12*</td> <td>     28.07</td> \n",
       "</tr>\n",
       "<tr>\n",
       "  <th>12</th> <td>     28.00</td>  <td>     28.21</td>  <td> 1.440e+12</td>  <td>     28.08</td> \n",
       "</tr>\n",
       "<tr>\n",
       "  <th>13</th> <td>     28.00</td>  <td>     28.23</td>  <td> 1.446e+12</td>  <td>     28.09</td> \n",
       "</tr>\n",
       "<tr>\n",
       "  <th>14</th> <td>     28.00</td>  <td>     28.25</td>  <td> 1.441e+12</td>  <td>     28.09</td> \n",
       "</tr>\n",
       "<tr>\n",
       "  <th>15</th> <td>     27.99</td>  <td>     28.26</td>  <td> 1.438e+12</td>  <td>     28.09</td> \n",
       "</tr>\n",
       "</table>"
      ],
      "text/plain": [
       "<class 'statsmodels.iolib.table.SimpleTable'>"
      ]
     },
     "execution_count": 17,
     "metadata": {},
     "output_type": "execute_result"
    }
   ],
   "source": [
    "model = VAR(VAR_data1_diff_lag)\n",
    "x = model.select_order(maxlags=15)\n",
    "x.summary()"
   ]
  },
  {
   "cell_type": "code",
   "execution_count": 18,
   "id": "f0a303aa",
   "metadata": {},
   "outputs": [
    {
     "data": {
      "text/plain": [
       "  Summary of Regression Results   \n",
       "==================================\n",
       "Model:                         VAR\n",
       "Method:                        OLS\n",
       "Date:           Thu, 16, Dec, 2021\n",
       "Time:                     09:25:34\n",
       "--------------------------------------------------------------------\n",
       "No. of Equations:         2.00000    BIC:                    28.0751\n",
       "Nobs:                     1191.00    HQIC:                   28.0485\n",
       "Log likelihood:          -20063.2    FPE:                1.49395e+12\n",
       "AIC:                      28.0324    Det(Omega_mle):     1.48149e+12\n",
       "--------------------------------------------------------------------\n",
       "Results for equation Volume\n",
       "=======================================================================================\n",
       "                          coefficient       std. error           t-stat            prob\n",
       "---------------------------------------------------------------------------------------\n",
       "const                    14341.182830     12827.398667            1.118           0.264\n",
       "L1.Volume                    0.687902         0.036547           18.822           0.000\n",
       "L1.difference_lagged      7674.062016      2627.057550            2.921           0.003\n",
       "L2.Volume                   -0.001476         0.035971           -0.041           0.967\n",
       "L2.difference_lagged     -9791.375189      2612.984282           -3.747           0.000\n",
       "=======================================================================================\n",
       "\n",
       "Results for equation difference_lagged\n",
       "=======================================================================================\n",
       "                          coefficient       std. error           t-stat            prob\n",
       "---------------------------------------------------------------------------------------\n",
       "const                        0.611207         0.174105            3.511           0.000\n",
       "L1.Volume                    0.000001         0.000000            1.839           0.066\n",
       "L1.difference_lagged         0.692218         0.035657           19.413           0.000\n",
       "L2.Volume                   -0.000001         0.000000           -1.370           0.171\n",
       "L2.difference_lagged         0.219997         0.035466            6.203           0.000\n",
       "=======================================================================================\n",
       "\n",
       "Correlation matrix of residuals\n",
       "                       Volume  difference_lagged\n",
       "Volume               1.000000          -0.604535\n",
       "difference_lagged   -0.604535           1.000000\n",
       "\n"
      ]
     },
     "execution_count": 18,
     "metadata": {},
     "output_type": "execute_result"
    }
   ],
   "source": [
    "model_fitted = model.fit(2)\n",
    "model_fitted.summary()"
   ]
  },
  {
   "cell_type": "code",
   "execution_count": 19,
   "id": "7d07bc63",
   "metadata": {},
   "outputs": [
    {
     "data": {
      "text/plain": [
       "(array([-2.,  0.,  2.,  4.,  6.,  8., 10., 12.]),\n",
       " [Text(-2.0, 0, '−2'),\n",
       "  Text(0.0, 0, '0'),\n",
       "  Text(2.0, 0, '2'),\n",
       "  Text(4.0, 0, '4'),\n",
       "  Text(6.0, 0, '6'),\n",
       "  Text(8.0, 0, '8'),\n",
       "  Text(10.0, 0, '10'),\n",
       "  Text(12.0, 0, '12')])"
      ]
     },
     "execution_count": 19,
     "metadata": {},
     "output_type": "execute_result"
    },
    {
     "data": {
      "text/plain": [
       "(array([-10000.,  -5000.,      0.,   5000.,  10000.,  15000.]),\n",
       " [Text(0, -10000.0, '−10000'),\n",
       "  Text(0, -5000.0, '−5000'),\n",
       "  Text(0, 0.0, '0'),\n",
       "  Text(0, 5000.0, '5000'),\n",
       "  Text(0, 10000.0, '10000'),\n",
       "  Text(0, 15000.0, '15000')])"
      ]
     },
     "execution_count": 19,
     "metadata": {},
     "output_type": "execute_result"
    },
    {
     "data": {
      "image/png": "[encoded data removed]",
      "text/plain": [
       "<Figure size 504x360 with 1 Axes>"
      ]
     },
     "metadata": {
      "needs_background": "light"
     },
     "output_type": "display_data"
    }
   ],
   "source": [
    "Impulse3 = IRAnalysis(model_fitted)\n",
    "fig = Impulse3.plot(impulse='difference_lagged',response='Volume',figsize=(8,6));\n",
    "fig.tight_layout()\n",
    "fig.set_figheight(5)\n",
    "fig.set_figwidth(7)\n",
    "plt.xticks(fontsize=12, rotation=0);\n",
    "plt.yticks(fontsize=12, rotation=90);\n",
    "plt.savefig('ImpulseDifferenceLag.png', bbox_inches='tight')"
   ]
  },
  {
   "cell_type": "code",
   "execution_count": 20,
   "id": "e49d880f",
   "metadata": {},
   "outputs": [
    {
     "data": {
      "image/png": "[encoded data removed]",
      "text/plain": [
       "<Figure size 720x720 with 1 Axes>"
      ]
     },
     "execution_count": 20,
     "metadata": {},
     "output_type": "execute_result"
    },
    {
     "data": {
      "image/png": "[encoded data removed]",
      "text/plain": [
       "<Figure size 720x720 with 1 Axes>"
      ]
     },
     "metadata": {
      "needs_background": "light"
     },
     "output_type": "display_data"
    }
   ],
   "source": [
    "Impulse3.plot_cum_effects(impulse='difference_lagged',response='Volume');\n",
    "plt.savefig('ImpulseDifferenceCUM.png', bbox_inches='tight')"
   ]
  },
  {
   "cell_type": "markdown",
   "id": "80ed57a0",
   "metadata": {},
   "source": [
    "# VAR Model 2\n",
    "- Front Month Volume\n",
    "- Benchmark Volatility 3 ways:\n",
    "--------------------------------\n",
    "1. Implied + Realized\n",
    "2. Difference without lag\n",
    "3. Difference with lag"
   ]
  },
  {
   "cell_type": "code",
   "execution_count": 21,
   "id": "765cc758",
   "metadata": {},
   "outputs": [],
   "source": [
    "VAR_data2 = pd.concat([Volume, Benchmark], axis=1)\n",
    "VAR_data2_diff_nolag = VAR_data2.drop(columns=[\"realized_volatility\",\"implied_volatility\",'difference_lagged'],inplace=False)\n",
    "VAR_data2_diff_lag = VAR_data2.drop(columns=[\"realized_volatility\",\"implied_volatility\",'difference'],inplace=False).fillna(method='ffill')\n",
    "VAR_data2.drop(columns=[\"difference\",\"difference_lagged\"],inplace=True)"
   ]
  },
  {
   "cell_type": "code",
   "execution_count": 22,
   "id": "9557d281",
   "metadata": {},
   "outputs": [
    {
     "data": {
      "text/html": [
       "<table class=\"simpletable\">\n",
       "<caption>VAR Order Selection (* highlights the minimums)</caption>\n",
       "<tr>\n",
       "   <td></td>      <th>AIC</th>         <th>BIC</th>         <th>FPE</th>        <th>HQIC</th>    \n",
       "</tr>\n",
       "<tr>\n",
       "  <th>0</th>  <td>     18.73</td>  <td>     18.74</td>  <td> 1.364e+08</td>  <td>     18.74</td> \n",
       "</tr>\n",
       "<tr>\n",
       "  <th>1</th>  <td>     11.76</td>  <td>     11.81*</td> <td> 1.277e+05</td>  <td>     11.78</td> \n",
       "</tr>\n",
       "<tr>\n",
       "  <th>2</th>  <td>     11.74</td>  <td>     11.83</td>  <td> 1.259e+05</td>  <td>     11.78</td> \n",
       "</tr>\n",
       "<tr>\n",
       "  <th>3</th>  <td>     11.74</td>  <td>     11.87</td>  <td> 1.256e+05</td>  <td>     11.79</td> \n",
       "</tr>\n",
       "<tr>\n",
       "  <th>4</th>  <td>     11.68</td>  <td>     11.85</td>  <td> 1.187e+05</td>  <td>     11.75*</td>\n",
       "</tr>\n",
       "<tr>\n",
       "  <th>5</th>  <td>     11.68</td>  <td>     11.89</td>  <td> 1.182e+05</td>  <td>     11.76</td> \n",
       "</tr>\n",
       "<tr>\n",
       "  <th>6</th>  <td>     11.67</td>  <td>     11.92</td>  <td> 1.175e+05</td>  <td>     11.77</td> \n",
       "</tr>\n",
       "<tr>\n",
       "  <th>7</th>  <td>     11.65</td>  <td>     11.93</td>  <td> 1.145e+05</td>  <td>     11.76</td> \n",
       "</tr>\n",
       "<tr>\n",
       "  <th>8</th>  <td>     11.64</td>  <td>     11.96</td>  <td> 1.137e+05</td>  <td>     11.76</td> \n",
       "</tr>\n",
       "<tr>\n",
       "  <th>9</th>  <td>     11.62</td>  <td>     11.98</td>  <td> 1.113e+05</td>  <td>     11.76</td> \n",
       "</tr>\n",
       "<tr>\n",
       "  <th>10</th> <td>     11.62</td>  <td>     12.02</td>  <td> 1.113e+05</td>  <td>     11.77</td> \n",
       "</tr>\n",
       "<tr>\n",
       "  <th>11</th> <td>     11.62</td>  <td>     12.06</td>  <td> 1.111e+05</td>  <td>     11.78</td> \n",
       "</tr>\n",
       "<tr>\n",
       "  <th>12</th> <td>     11.61*</td> <td>     12.09</td>  <td> 1.107e+05*</td> <td>     11.79</td> \n",
       "</tr>\n",
       "<tr>\n",
       "  <th>13</th> <td>     11.62</td>  <td>     12.13</td>  <td> 1.108e+05</td>  <td>     11.81</td> \n",
       "</tr>\n",
       "<tr>\n",
       "  <th>14</th> <td>     11.62</td>  <td>     12.18</td>  <td> 1.114e+05</td>  <td>     11.83</td> \n",
       "</tr>\n",
       "<tr>\n",
       "  <th>15</th> <td>     11.62</td>  <td>     12.22</td>  <td> 1.115e+05</td>  <td>     11.85</td> \n",
       "</tr>\n",
       "</table>"
      ],
      "text/plain": [
       "<class 'statsmodels.iolib.table.SimpleTable'>"
      ]
     },
     "execution_count": 22,
     "metadata": {},
     "output_type": "execute_result"
    }
   ],
   "source": [
    "model = VAR(VAR_data2)\n",
    "x = model.select_order(maxlags=15)\n",
    "x.summary()"
   ]
  },
  {
   "cell_type": "code",
   "execution_count": 23,
   "id": "5d4bfae5",
   "metadata": {},
   "outputs": [
    {
     "data": {
      "text/plain": [
       "  Summary of Regression Results   \n",
       "==================================\n",
       "Model:                         VAR\n",
       "Method:                        OLS\n",
       "Date:           Thu, 16, Dec, 2021\n",
       "Time:                     09:25:36\n",
       "--------------------------------------------------------------------\n",
       "No. of Equations:         3.00000    BIC:                    11.7844\n",
       "Nobs:                     1192.00    HQIC:                   11.7525\n",
       "Log likelihood:          -12055.1    FPE:                    124644.\n",
       "AIC:                      11.7332    Det(Omega_mle):         123398.\n",
       "--------------------------------------------------------------------\n",
       "Results for equation Volume\n",
       "=========================================================================================\n",
       "                            coefficient       std. error           t-stat            prob\n",
       "-----------------------------------------------------------------------------------------\n",
       "const                    -140211.354985     28568.436101           -4.908           0.000\n",
       "L1.Volume                      0.607232         0.025273           24.027           0.000\n",
       "L1.realized_volatility    -60769.218605     28189.296299           -2.156           0.031\n",
       "L1.implied_volatility    1054620.009594    235837.412474            4.472           0.000\n",
       "=========================================================================================\n",
       "\n",
       "Results for equation realized_volatility\n",
       "=========================================================================================\n",
       "                            coefficient       std. error           t-stat            prob\n",
       "-----------------------------------------------------------------------------------------\n",
       "const                         -0.021157         0.005673           -3.730           0.000\n",
       "L1.Volume                      0.000000         0.000000            2.852           0.004\n",
       "L1.realized_volatility         0.948116         0.005597          169.389           0.000\n",
       "L1.implied_volatility          0.387464         0.046828            8.274           0.000\n",
       "=========================================================================================\n",
       "\n",
       "Results for equation implied_volatility\n",
       "=========================================================================================\n",
       "                            coefficient       std. error           t-stat            prob\n",
       "-----------------------------------------------------------------------------------------\n",
       "const                          0.008428         0.001630            5.171           0.000\n",
       "L1.Volume                      0.000000         0.000000            3.705           0.000\n",
       "L1.realized_volatility         0.003003         0.001608            1.867           0.062\n",
       "L1.implied_volatility          0.940124         0.013455           69.873           0.000\n",
       "=========================================================================================\n",
       "\n",
       "Correlation matrix of residuals\n",
       "                         Volume  realized_volatility  implied_volatility\n",
       "Volume                 1.000000             0.346248            0.468502\n",
       "realized_volatility    0.346248             1.000000            0.208880\n",
       "implied_volatility     0.468502             0.208880            1.000000\n",
       "\n"
      ]
     },
     "execution_count": 23,
     "metadata": {},
     "output_type": "execute_result"
    }
   ],
   "source": [
    "model_fitted = model.fit(1)\n",
    "model_fitted.summary()"
   ]
  },
  {
   "cell_type": "code",
   "execution_count": 24,
   "id": "c571ffa2",
   "metadata": {},
   "outputs": [
    {
     "data": {
      "text/html": [
       "<table class=\"simpletable\">\n",
       "<caption>VAR Order Selection (* highlights the minimums)</caption>\n",
       "<tr>\n",
       "   <td></td>      <th>AIC</th>         <th>BIC</th>         <th>FPE</th>        <th>HQIC</th>    \n",
       "</tr>\n",
       "<tr>\n",
       "  <th>0</th>  <td>     24.90</td>  <td>     24.91</td>  <td> 6.523e+10</td>  <td>     24.90</td> \n",
       "</tr>\n",
       "<tr>\n",
       "  <th>1</th>  <td>     20.03</td>  <td>     20.06</td>  <td> 5.002e+08</td>  <td>     20.04</td> \n",
       "</tr>\n",
       "<tr>\n",
       "  <th>2</th>  <td>     20.02</td>  <td>     20.06</td>  <td> 4.958e+08</td>  <td>     20.04</td> \n",
       "</tr>\n",
       "<tr>\n",
       "  <th>3</th>  <td>     20.01</td>  <td>     20.07</td>  <td> 4.879e+08</td>  <td>     20.03</td> \n",
       "</tr>\n",
       "<tr>\n",
       "  <th>4</th>  <td>     19.95</td>  <td>     20.03*</td> <td> 4.609e+08</td>  <td>     19.98</td> \n",
       "</tr>\n",
       "<tr>\n",
       "  <th>5</th>  <td>     19.95</td>  <td>     20.04</td>  <td> 4.599e+08</td>  <td>     19.98</td> \n",
       "</tr>\n",
       "<tr>\n",
       "  <th>6</th>  <td>     19.95</td>  <td>     20.06</td>  <td> 4.592e+08</td>  <td>     19.99</td> \n",
       "</tr>\n",
       "<tr>\n",
       "  <th>7</th>  <td>     19.92</td>  <td>     20.05</td>  <td> 4.476e+08</td>  <td>     19.97</td> \n",
       "</tr>\n",
       "<tr>\n",
       "  <th>8</th>  <td>     19.91</td>  <td>     20.06</td>  <td> 4.430e+08</td>  <td>     19.96</td> \n",
       "</tr>\n",
       "<tr>\n",
       "  <th>9</th>  <td>     19.90</td>  <td>     20.06</td>  <td> 4.391e+08</td>  <td>     19.96*</td>\n",
       "</tr>\n",
       "<tr>\n",
       "  <th>10</th> <td>     19.90*</td> <td>     20.08</td>  <td> 4.382e+08*</td> <td>     19.97</td> \n",
       "</tr>\n",
       "<tr>\n",
       "  <th>11</th> <td>     19.90</td>  <td>     20.10</td>  <td> 4.392e+08</td>  <td>     19.98</td> \n",
       "</tr>\n",
       "<tr>\n",
       "  <th>12</th> <td>     19.90</td>  <td>     20.12</td>  <td> 4.404e+08</td>  <td>     19.98</td> \n",
       "</tr>\n",
       "<tr>\n",
       "  <th>13</th> <td>     19.90</td>  <td>     20.13</td>  <td> 4.398e+08</td>  <td>     19.99</td> \n",
       "</tr>\n",
       "<tr>\n",
       "  <th>14</th> <td>     19.91</td>  <td>     20.16</td>  <td> 4.423e+08</td>  <td>     20.00</td> \n",
       "</tr>\n",
       "<tr>\n",
       "  <th>15</th> <td>     19.91</td>  <td>     20.18</td>  <td> 4.442e+08</td>  <td>     20.01</td> \n",
       "</tr>\n",
       "</table>"
      ],
      "text/plain": [
       "<class 'statsmodels.iolib.table.SimpleTable'>"
      ]
     },
     "execution_count": 24,
     "metadata": {},
     "output_type": "execute_result"
    }
   ],
   "source": [
    "model = VAR(VAR_data2_diff_nolag)\n",
    "x = model.select_order(maxlags=15)\n",
    "x.summary()"
   ]
  },
  {
   "cell_type": "code",
   "execution_count": 25,
   "id": "6a8c1add",
   "metadata": {},
   "outputs": [
    {
     "data": {
      "text/plain": [
       "  Summary of Regression Results   \n",
       "==================================\n",
       "Model:                         VAR\n",
       "Method:                        OLS\n",
       "Date:           Thu, 16, Dec, 2021\n",
       "Time:                     09:25:36\n",
       "--------------------------------------------------------------------\n",
       "No. of Equations:         2.00000    BIC:                    20.0401\n",
       "Nobs:                     1192.00    HQIC:                   20.0241\n",
       "Log likelihood:          -15305.4    FPE:                4.92249e+08\n",
       "AIC:                      20.0145    Det(Omega_mle):     4.89780e+08\n",
       "--------------------------------------------------------------------\n",
       "Results for equation Volume\n",
       "================================================================================\n",
       "                   coefficient       std. error           t-stat            prob\n",
       "--------------------------------------------------------------------------------\n",
       "const            -34360.190065     17487.161819           -1.965           0.049\n",
       "L1.Volume             0.666804         0.021993           30.318           0.000\n",
       "L1.difference    -41692.055680     17803.601717           -2.342           0.019\n",
       "================================================================================\n",
       "\n",
       "Results for equation difference\n",
       "================================================================================\n",
       "                   coefficient       std. error           t-stat            prob\n",
       "--------------------------------------------------------------------------------\n",
       "const                -0.012214         0.003500           -3.489           0.000\n",
       "L1.Volume            -0.000000         0.000000           -7.381           0.000\n",
       "L1.difference         0.985573         0.003564          276.556           0.000\n",
       "================================================================================\n",
       "\n",
       "Correlation matrix of residuals\n",
       "                Volume  difference\n",
       "Volume        1.000000   -0.241602\n",
       "difference   -0.241602    1.000000\n",
       "\n"
      ]
     },
     "execution_count": 25,
     "metadata": {},
     "output_type": "execute_result"
    }
   ],
   "source": [
    "model_fitted = model.fit(1)\n",
    "model_fitted.summary()"
   ]
  },
  {
   "cell_type": "code",
   "execution_count": 26,
   "id": "be15bbbb",
   "metadata": {},
   "outputs": [
    {
     "data": {
      "text/plain": [
       "realized_volatility  implied_volatility  difference_lagged  difference\n",
       "True                 True                True               True          1183\n",
       "                                         False              True            10\n",
       "dtype: int64"
      ]
     },
     "execution_count": 26,
     "metadata": {},
     "output_type": "execute_result"
    }
   ],
   "source": [
    "pd.notnull(Benchmark).value_counts() # Few rows are missing data is not granural enough"
   ]
  },
  {
   "cell_type": "code",
   "execution_count": 27,
   "id": "a33984c9",
   "metadata": {},
   "outputs": [
    {
     "data": {
      "text/html": [
       "<table class=\"simpletable\">\n",
       "<caption>VAR Order Selection (* highlights the minimums)</caption>\n",
       "<tr>\n",
       "   <td></td>      <th>AIC</th>         <th>BIC</th>         <th>FPE</th>        <th>HQIC</th>    \n",
       "</tr>\n",
       "<tr>\n",
       "  <th>0</th>  <td>     24.88</td>  <td>     24.89</td>  <td> 6.410e+10</td>  <td>     24.89</td> \n",
       "</tr>\n",
       "<tr>\n",
       "  <th>1</th>  <td>     19.98</td>  <td>     20.00</td>  <td> 4.747e+08</td>  <td>     19.99</td> \n",
       "</tr>\n",
       "<tr>\n",
       "  <th>2</th>  <td>     19.97</td>  <td>     20.01</td>  <td> 4.700e+08</td>  <td>     19.98</td> \n",
       "</tr>\n",
       "<tr>\n",
       "  <th>3</th>  <td>     19.95</td>  <td>     20.02</td>  <td> 4.638e+08</td>  <td>     19.98</td> \n",
       "</tr>\n",
       "<tr>\n",
       "  <th>4</th>  <td>     19.91</td>  <td>     19.99*</td> <td> 4.432e+08</td>  <td>     19.94</td> \n",
       "</tr>\n",
       "<tr>\n",
       "  <th>5</th>  <td>     19.91</td>  <td>     20.00</td>  <td> 4.422e+08</td>  <td>     19.94</td> \n",
       "</tr>\n",
       "<tr>\n",
       "  <th>6</th>  <td>     19.91</td>  <td>     20.02</td>  <td> 4.432e+08</td>  <td>     19.95</td> \n",
       "</tr>\n",
       "<tr>\n",
       "  <th>7</th>  <td>     19.89</td>  <td>     20.02</td>  <td> 4.344e+08</td>  <td>     19.94</td> \n",
       "</tr>\n",
       "<tr>\n",
       "  <th>8</th>  <td>     19.89</td>  <td>     20.03</td>  <td> 4.330e+08</td>  <td>     19.94</td> \n",
       "</tr>\n",
       "<tr>\n",
       "  <th>9</th>  <td>     19.87</td>  <td>     20.03</td>  <td> 4.264e+08</td>  <td>     19.93*</td>\n",
       "</tr>\n",
       "<tr>\n",
       "  <th>10</th> <td>     19.87</td>  <td>     20.05</td>  <td> 4.262e+08</td>  <td>     19.94</td> \n",
       "</tr>\n",
       "<tr>\n",
       "  <th>11</th> <td>     19.86</td>  <td>     20.06</td>  <td> 4.222e+08</td>  <td>     19.94</td> \n",
       "</tr>\n",
       "<tr>\n",
       "  <th>12</th> <td>     19.86</td>  <td>     20.08</td>  <td> 4.228e+08</td>  <td>     19.94</td> \n",
       "</tr>\n",
       "<tr>\n",
       "  <th>13</th> <td>     19.86*</td> <td>     20.09</td>  <td> 4.208e+08*</td> <td>     19.95</td> \n",
       "</tr>\n",
       "<tr>\n",
       "  <th>14</th> <td>     19.86</td>  <td>     20.11</td>  <td> 4.225e+08</td>  <td>     19.96</td> \n",
       "</tr>\n",
       "<tr>\n",
       "  <th>15</th> <td>     19.87</td>  <td>     20.13</td>  <td> 4.245e+08</td>  <td>     19.97</td> \n",
       "</tr>\n",
       "</table>"
      ],
      "text/plain": [
       "<class 'statsmodels.iolib.table.SimpleTable'>"
      ]
     },
     "execution_count": 27,
     "metadata": {},
     "output_type": "execute_result"
    }
   ],
   "source": [
    "model = VAR(VAR_data2_diff_lag)\n",
    "x = model.select_order(maxlags=15)\n",
    "x.summary()"
   ]
  },
  {
   "cell_type": "code",
   "execution_count": 28,
   "id": "38a3fdd9",
   "metadata": {},
   "outputs": [
    {
     "data": {
      "text/plain": [
       "  Summary of Regression Results   \n",
       "==================================\n",
       "Model:                         VAR\n",
       "Method:                        OLS\n",
       "Date:           Thu, 16, Dec, 2021\n",
       "Time:                     09:25:36\n",
       "--------------------------------------------------------------------\n",
       "No. of Equations:         2.00000    BIC:                    19.9879\n",
       "Nobs:                     1192.00    HQIC:                   19.9720\n",
       "Log likelihood:          -15274.3    FPE:                4.67233e+08\n",
       "AIC:                      19.9623    Det(Omega_mle):     4.64890e+08\n",
       "--------------------------------------------------------------------\n",
       "Results for equation Volume\n",
       "=======================================================================================\n",
       "                          coefficient       std. error           t-stat            prob\n",
       "---------------------------------------------------------------------------------------\n",
       "const                   -43160.305068     17588.193236           -2.454           0.014\n",
       "L1.Volume                    0.658931         0.022423           29.386           0.000\n",
       "L1.difference_lagged    -52405.578682     17931.628725           -2.923           0.003\n",
       "=======================================================================================\n",
       "\n",
       "Results for equation difference_lagged\n",
       "=======================================================================================\n",
       "                          coefficient       std. error           t-stat            prob\n",
       "---------------------------------------------------------------------------------------\n",
       "const                       -0.014160         0.003574           -3.962           0.000\n",
       "L1.Volume                   -0.000000         0.000000           -7.735           0.000\n",
       "L1.difference_lagged         0.983219         0.003643          269.868           0.000\n",
       "=======================================================================================\n",
       "\n",
       "Correlation matrix of residuals\n",
       "                       Volume  difference_lagged\n",
       "Volume               1.000000          -0.357858\n",
       "difference_lagged   -0.357858           1.000000\n",
       "\n"
      ]
     },
     "execution_count": 28,
     "metadata": {},
     "output_type": "execute_result"
    }
   ],
   "source": [
    "model_fitted = model.fit(1)\n",
    "model_fitted.summary()"
   ]
  },
  {
   "cell_type": "markdown",
   "id": "2eefa0a4",
   "metadata": {},
   "source": [
    "# Structural Breaks on Model 1"
   ]
  },
  {
   "cell_type": "code",
   "execution_count": 29,
   "id": "7c175f06",
   "metadata": {},
   "outputs": [
    {
     "data": {
      "text/html": [
       "<div>\n",
       "<style scoped>\n",
       "    .dataframe tbody tr th:only-of-type {\n",
       "        vertical-align: middle;\n",
       "    }\n",
       "\n",
       "    .dataframe tbody tr th {\n",
       "        vertical-align: top;\n",
       "    }\n",
       "\n",
       "    .dataframe thead th {\n",
       "        text-align: right;\n",
       "    }\n",
       "</style>\n",
       "<table border=\"1\" class=\"dataframe\">\n",
       "  <thead>\n",
       "    <tr style=\"text-align: right;\">\n",
       "      <th></th>\n",
       "      <th>Volume</th>\n",
       "      <th>realized_volatility</th>\n",
       "      <th>implied_volatility</th>\n",
       "    </tr>\n",
       "    <tr>\n",
       "      <th>Date</th>\n",
       "      <th></th>\n",
       "      <th></th>\n",
       "      <th></th>\n",
       "    </tr>\n",
       "  </thead>\n",
       "  <tbody>\n",
       "    <tr>\n",
       "      <th>2017-02-02</th>\n",
       "      <td>-23537.995587</td>\n",
       "      <td>8.837903</td>\n",
       "      <td>16.1939</td>\n",
       "    </tr>\n",
       "    <tr>\n",
       "      <th>2017-02-03</th>\n",
       "      <td>-54932.738897</td>\n",
       "      <td>9.464721</td>\n",
       "      <td>15.1332</td>\n",
       "    </tr>\n",
       "    <tr>\n",
       "      <th>2017-02-06</th>\n",
       "      <td>488004.007571</td>\n",
       "      <td>11.440489</td>\n",
       "      <td>16.4328</td>\n",
       "    </tr>\n",
       "    <tr>\n",
       "      <th>2017-02-07</th>\n",
       "      <td>64470.445165</td>\n",
       "      <td>8.552389</td>\n",
       "      <td>16.9147</td>\n",
       "    </tr>\n",
       "    <tr>\n",
       "      <th>2017-02-08</th>\n",
       "      <td>374958.159980</td>\n",
       "      <td>12.015388</td>\n",
       "      <td>16.8310</td>\n",
       "    </tr>\n",
       "    <tr>\n",
       "      <th>...</th>\n",
       "      <td>...</td>\n",
       "      <td>...</td>\n",
       "      <td>...</td>\n",
       "    </tr>\n",
       "    <tr>\n",
       "      <th>2021-03-17</th>\n",
       "      <td>-246591.797477</td>\n",
       "      <td>6.335072</td>\n",
       "      <td>17.5706</td>\n",
       "    </tr>\n",
       "    <tr>\n",
       "      <th>2021-03-18</th>\n",
       "      <td>-134034.294140</td>\n",
       "      <td>8.339464</td>\n",
       "      <td>17.4622</td>\n",
       "    </tr>\n",
       "    <tr>\n",
       "      <th>2021-03-19</th>\n",
       "      <td>-83936.005589</td>\n",
       "      <td>12.989203</td>\n",
       "      <td>18.3950</td>\n",
       "    </tr>\n",
       "    <tr>\n",
       "      <th>2021-03-22</th>\n",
       "      <td>-6638.520243</td>\n",
       "      <td>8.741878</td>\n",
       "      <td>17.6826</td>\n",
       "    </tr>\n",
       "    <tr>\n",
       "      <th>2021-03-23</th>\n",
       "      <td>11109.165236</td>\n",
       "      <td>9.623541</td>\n",
       "      <td>17.5964</td>\n",
       "    </tr>\n",
       "  </tbody>\n",
       "</table>\n",
       "<p>1050 rows × 3 columns</p>\n",
       "</div>"
      ],
      "text/plain": [
       "                   Volume  realized_volatility  implied_volatility\n",
       "Date                                                              \n",
       "2017-02-02  -23537.995587             8.837903             16.1939\n",
       "2017-02-03  -54932.738897             9.464721             15.1332\n",
       "2017-02-06  488004.007571            11.440489             16.4328\n",
       "2017-02-07   64470.445165             8.552389             16.9147\n",
       "2017-02-08  374958.159980            12.015388             16.8310\n",
       "...                   ...                  ...                 ...\n",
       "2021-03-17 -246591.797477             6.335072             17.5706\n",
       "2021-03-18 -134034.294140             8.339464             17.4622\n",
       "2021-03-19  -83936.005589            12.989203             18.3950\n",
       "2021-03-22   -6638.520243             8.741878             17.6826\n",
       "2021-03-23   11109.165236             9.623541             17.5964\n",
       "\n",
       "[1050 rows x 3 columns]"
      ]
     },
     "execution_count": 29,
     "metadata": {},
     "output_type": "execute_result"
    }
   ],
   "source": [
    "VAR_data1.head(1050)"
   ]
  },
  {
   "cell_type": "code",
   "execution_count": 43,
   "id": "84097970",
   "metadata": {},
   "outputs": [],
   "source": [
    "# For the impl/realized\n",
    "X_pre_covid = sm.add_constant(((VAR_data1[0:787].drop(columns='Volume',inplace=False)).reset_index()).drop(columns=\"Date\",inplace=False))\n",
    "Y_pre_covid = ((VAR_data1[0:787].drop(columns=['implied_volatility','realized_volatility'],inplace=False)).reset_index()).drop(columns=\"Date\",inplace=False)\n",
    "X_post_covid = sm.add_constant(((VAR_data1[787:].drop(columns='Volume',inplace=False)).reset_index()).drop(columns=\"Date\",inplace=False))\n",
    "Y_post_covid  = ((VAR_data1[787:].drop(columns=['implied_volatility','realized_volatility'],inplace=False)).reset_index()).drop(columns=\"Date\",inplace=False)\n",
    "X_total = sm.add_constant(((VAR_data1.drop(columns='Volume',inplace=False)).reset_index()).drop(columns=\"Date\",inplace=False))\n",
    "Y_total = ((VAR_data1.drop(columns=['implied_volatility','realized_volatility'],inplace=False)).reset_index()).drop(columns=\"Date\",inplace=False)"
   ]
  },
  {
   "cell_type": "code",
   "execution_count": 44,
   "id": "1cf12677",
   "metadata": {},
   "outputs": [
    {
     "name": "stdout",
     "output_type": "stream",
     "text": [
      "CHOW TEST: \n",
      "Chow statistic is 104.15\n",
      "Table value of the F distribution is 3.0\n",
      "We can confirm the structural break on 95% confidence.\n"
     ]
    }
   ],
   "source": [
    "model_pre = sm.OLS(Y_pre_covid,X_pre_covid)\n",
    "model_post = sm.OLS(Y_post_covid,X_post_covid)\n",
    "model_full = sm.OLS(Y_total,X_total)\n",
    "result_pre = model_pre.fit()\n",
    "result_post = model_post.fit()\n",
    "result_full = model_full.fit()\n",
    "\n",
    "SQER = ((result_full.resid)**2).sum()\n",
    "SQE1 = ((result_pre.resid)**2).sum()\n",
    "SQE2 = ((result_post.resid)**2).sum()\n",
    "k = 2\n",
    "N = 1193\n",
    "\n",
    "Numerator = (SQER - (SQE1 + SQE2))/k\n",
    "Denominator = (SQE1 + SQE2) / (N-2*k)\n",
    "\n",
    "Chow_statistic = Numerator / Denominator\n",
    "F_table_value = scipy.stats.f.ppf(q=1-0.05, dfn=2, dfd=1193)\n",
    "\n",
    "print(\"CHOW TEST: \")\n",
    "if Chow_statistic>F_table_value:\n",
    "    print(\"Chow statistic is \"+ str(round(Chow_statistic,2)))\n",
    "    print(\"Table value of the F distribution is \"+ str(round(F_table_value,2))) \n",
    "    print(\"We can confirm the structural break on 95% confidence.\")\n",
    "else:\n",
    "    print(\"We cannot confirm the structural break on 95% confidence.\")"
   ]
  },
  {
   "cell_type": "code",
   "execution_count": 40,
   "id": "21393d46",
   "metadata": {},
   "outputs": [],
   "source": [
    "# For the difference_lagged\n",
    "X_pre_covid = sm.add_constant(((VAR_data1_diff_lag[:787].drop(columns='Volume',inplace=False)).reset_index()).drop(columns=\"Date\",inplace=False))\n",
    "Y_pre_covid = ((VAR_data1_diff_lag[:787].drop(columns=['difference_lagged'],inplace=False)).reset_index()).drop(columns=\"Date\",inplace=False)\n",
    "X_post_covid = sm.add_constant(((VAR_data1_diff_lag[787:].drop(columns='Volume',inplace=False)).reset_index()).drop(columns=\"Date\",inplace=False))\n",
    "Y_post_covid  = ((VAR_data1_diff_lag[787:].drop(columns=['difference_lagged'],inplace=False)).reset_index()).drop(columns=\"Date\",inplace=False)\n",
    "X_total = sm.add_constant(((VAR_data1_diff_lag.drop(columns='Volume',inplace=False)).reset_index()).drop(columns=\"Date\",inplace=False))\n",
    "Y_total = ((VAR_data1_diff_lag.drop(columns=['difference_lagged'],inplace=False)).reset_index()).drop(columns=\"Date\",inplace=False)"
   ]
  },
  {
   "cell_type": "code",
   "execution_count": 41,
   "id": "cf9751ea",
   "metadata": {},
   "outputs": [
    {
     "name": "stdout",
     "output_type": "stream",
     "text": [
      "CHOW TEST: \n",
      "Chow statistic is 210.93\n",
      "Table value of the F distribution is 3.85\n",
      "We can confirm the structural break on 95% confidence.\n"
     ]
    }
   ],
   "source": [
    "model_pre = sm.OLS(Y_pre_covid,X_pre_covid)\n",
    "model_post = sm.OLS(Y_post_covid,X_post_covid)\n",
    "model_full = sm.OLS(Y_total,X_total)\n",
    "result_pre = model_pre.fit()\n",
    "result_post = model_post.fit()\n",
    "result_full = model_full.fit()\n",
    "\n",
    "SQER = ((result_full.resid)**2).sum()\n",
    "SQE1 = ((result_pre.resid)**2).sum()\n",
    "SQE2 = ((result_post.resid)**2).sum()\n",
    "k = 1\n",
    "N = 1193\n",
    "\n",
    "Numerator = (SQER - (SQE1 + SQE2))/k\n",
    "Denominator = (SQE1 + SQE2) / (N-2*k)\n",
    "\n",
    "Chow_statistic = Numerator / Denominator\n",
    "F_table_value = scipy.stats.f.ppf(q=1-0.05, dfn=1, dfd=1193)\n",
    "\n",
    "print(\"CHOW TEST: \")\n",
    "if Chow_statistic>F_table_value:\n",
    "    print(\"Chow statistic is \"+ str(round(Chow_statistic,2)))\n",
    "    print(\"Table value of the F distribution is \"+ str(round(F_table_value,2))) \n",
    "    print(\"We can confirm the structural break on 95% confidence.\")\n",
    "else:\n",
    "    print(\"Chow statistic is \"+ str(round(Chow_statistic,2)))\n",
    "    print(\"Table value of the F distribution is \"+ str(round(F_table_value,2))) \n",
    "    print(\"We cannot confirm the structural break on 95% confidence.\")"
   ]
  },
  {
   "cell_type": "code",
   "execution_count": 34,
   "id": "d090e7dc",
   "metadata": {},
   "outputs": [],
   "source": [
    "# For the difference_without_lag\n",
    "X_pre_covid = sm.add_constant(((VAR_data1_diff_nolag[:787].drop(columns='Volume',inplace=False)).reset_index()).drop(columns=\"Date\",inplace=False))\n",
    "Y_pre_covid = ((VAR_data1_diff_nolag[:787].drop(columns=['difference'],inplace=False)).reset_index()).drop(columns=\"Date\",inplace=False)\n",
    "X_post_covid = sm.add_constant(((VAR_data1_diff_nolag[787:].drop(columns='Volume',inplace=False)).reset_index()).drop(columns=\"Date\",inplace=False))\n",
    "Y_post_covid  = ((VAR_data1_diff_nolag[787:].drop(columns=['difference'],inplace=False)).reset_index()).drop(columns=\"Date\",inplace=False)\n",
    "X_total = sm.add_constant(((VAR_data1_diff_nolag.drop(columns='Volume',inplace=False)).reset_index()).drop(columns=\"Date\",inplace=False))\n",
    "Y_total = ((VAR_data1_diff_nolag.drop(columns=['difference'],inplace=False)).reset_index()).drop(columns=\"Date\",inplace=False)"
   ]
  },
  {
   "cell_type": "code",
   "execution_count": 37,
   "id": "afb437d5",
   "metadata": {},
   "outputs": [
    {
     "name": "stdout",
     "output_type": "stream",
     "text": [
      "CHOW TEST: \n",
      "Chow statistic is 89.11\n",
      "Table value of the F distribution is 3.85\n",
      "We can confirm the structural break on 95% confidence.\n"
     ]
    }
   ],
   "source": [
    "model_pre = sm.OLS(Y_pre_covid,X_pre_covid)\n",
    "model_post = sm.OLS(Y_post_covid,X_post_covid)\n",
    "model_full = sm.OLS(Y_total,X_total)\n",
    "result_pre = model_pre.fit()\n",
    "result_post = model_post.fit()\n",
    "result_full = model_full.fit()\n",
    "\n",
    "SQER = ((result_full.resid)**2).sum()\n",
    "SQE1 = ((result_pre.resid)**2).sum()\n",
    "SQE2 = ((result_post.resid)**2).sum()\n",
    "k = 1\n",
    "N = 1193\n",
    "\n",
    "Numerator = (SQER - (SQE1 + SQE2))/k\n",
    "Denominator = (SQE1 + SQE2) / (N-2*k)\n",
    "\n",
    "Chow_statistic = Numerator / Denominator\n",
    "#Chow_statistic = Chow_statistic[0]\n",
    "F_table_value = scipy.stats.f.ppf(q=1-0.05, dfn=1, dfd=1193)\n",
    "\n",
    "print(\"CHOW TEST: \")\n",
    "if Chow_statistic>F_table_value:\n",
    "    print(\"Chow statistic is \"+ str(round(Chow_statistic,2)))\n",
    "    print(\"Table value of the F distribution is \"+ str(round(F_table_value,2))) \n",
    "    print(\"We can confirm the structural break on 95% confidence.\")\n",
    "else:\n",
    "    print(\"Chow statistic is \"+ str(round(Chow_statistic,2)))\n",
    "    print(\"Table value of the F distribution is \"+ str(round(F_table_value,2))) \n",
    "    print(\"We cannot confirm the structural break on 95% confidence.\")"
   ]
  },
  {
   "cell_type": "code",
   "execution_count": 47,
   "id": "7fe9a87c",
   "metadata": {},
   "outputs": [
    {
     "name": "stdout",
     "output_type": "stream",
     "text": [
      "                            OLS Regression Results                            \n",
      "==============================================================================\n",
      "Dep. Variable:                 Volume   R-squared:                       0.502\n",
      "Model:                            OLS   Adj. R-squared:                  0.501\n",
      "Method:                 Least Squares   F-statistic:                     600.4\n",
      "Date:                Thu, 16 Dec 2021   Prob (F-statistic):          5.20e-181\n",
      "Time:                        09:28:28   Log-Likelihood:                -16834.\n",
      "No. Observations:                1193   AIC:                         3.367e+04\n",
      "Df Residuals:                    1190   BIC:                         3.369e+04\n",
      "Df Model:                           2                                         \n",
      "Covariance Type:            nonrobust                                         \n",
      "=======================================================================================\n",
      "                          coef    std err          t      P>|t|      [0.025      0.975]\n",
      "---------------------------------------------------------------------------------------\n",
      "const               -3.005e+05   2.51e+04    -11.956      0.000    -3.5e+05   -2.51e+05\n",
      "realized_volatility  5.865e+04   2430.947     24.126      0.000    5.39e+04    6.34e+04\n",
      "implied_volatility   -2.12e+04   2317.708     -9.147      0.000   -2.57e+04   -1.67e+04\n",
      "==============================================================================\n",
      "Omnibus:                      233.861   Durbin-Watson:                   0.769\n",
      "Prob(Omnibus):                  0.000   Jarque-Bera (JB):             5846.346\n",
      "Skew:                          -0.142   Prob(JB):                         0.00\n",
      "Kurtosis:                      13.841   Cond. No.                         67.1\n",
      "==============================================================================\n",
      "\n",
      "Notes:\n",
      "[1] Standard Errors assume that the covariance matrix of the errors is correctly specified.\n"
     ]
    }
   ],
   "source": [
    "print(result_full.summary())"
   ]
  },
  {
   "cell_type": "code",
   "execution_count": 46,
   "id": "303e8bfd",
   "metadata": {},
   "outputs": [
    {
     "name": "stdout",
     "output_type": "stream",
     "text": [
      "                            OLS Regression Results                            \n",
      "==============================================================================\n",
      "Dep. Variable:                 Volume   R-squared:                       0.549\n",
      "Model:                            OLS   Adj. R-squared:                  0.548\n",
      "Method:                 Least Squares   F-statistic:                     476.9\n",
      "Date:                Thu, 16 Dec 2021   Prob (F-statistic):          3.09e-136\n",
      "Time:                        09:28:05   Log-Likelihood:                -11041.\n",
      "No. Observations:                 787   AIC:                         2.209e+04\n",
      "Df Residuals:                     784   BIC:                         2.210e+04\n",
      "Df Model:                           2                                         \n",
      "Covariance Type:            nonrobust                                         \n",
      "=======================================================================================\n",
      "                          coef    std err          t      P>|t|      [0.025      0.975]\n",
      "---------------------------------------------------------------------------------------\n",
      "const               -8.374e+05   4.63e+04    -18.100      0.000   -9.28e+05   -7.47e+05\n",
      "realized_volatility  5.478e+04   3714.468     14.748      0.000    4.75e+04    6.21e+04\n",
      "implied_volatility   1.684e+04   4490.424      3.750      0.000    8026.461    2.57e+04\n",
      "==============================================================================\n",
      "Omnibus:                       81.397   Durbin-Watson:                   0.869\n",
      "Prob(Omnibus):                  0.000   Jarque-Bera (JB):              488.648\n",
      "Skew:                           0.206   Prob(JB):                    7.79e-107\n",
      "Kurtosis:                       6.838   Cond. No.                         84.8\n",
      "==============================================================================\n",
      "\n",
      "Notes:\n",
      "[1] Standard Errors assume that the covariance matrix of the errors is correctly specified.\n"
     ]
    }
   ],
   "source": [
    "print(result_pre.summary())"
   ]
  },
  {
   "cell_type": "code",
   "execution_count": 45,
   "id": "26aa8cfe",
   "metadata": {},
   "outputs": [
    {
     "name": "stdout",
     "output_type": "stream",
     "text": [
      "                            OLS Regression Results                            \n",
      "==============================================================================\n",
      "Dep. Variable:                 Volume   R-squared:                       0.619\n",
      "Model:                            OLS   Adj. R-squared:                  0.617\n",
      "Method:                 Least Squares   F-statistic:                     326.8\n",
      "Date:                Thu, 16 Dec 2021   Prob (F-statistic):           4.46e-85\n",
      "Time:                        09:27:38   Log-Likelihood:                -5696.4\n",
      "No. Observations:                 406   AIC:                         1.140e+04\n",
      "Df Residuals:                     403   BIC:                         1.141e+04\n",
      "Df Model:                           2                                         \n",
      "Covariance Type:            nonrobust                                         \n",
      "=======================================================================================\n",
      "                          coef    std err          t      P>|t|      [0.025      0.975]\n",
      "---------------------------------------------------------------------------------------\n",
      "const               -1.958e+05   5.17e+04     -3.785      0.000   -2.97e+05   -9.41e+04\n",
      "realized_volatility  5.373e+04   3445.234     15.594      0.000     4.7e+04    6.05e+04\n",
      "implied_volatility  -2.359e+04   3662.617     -6.440      0.000   -3.08e+04   -1.64e+04\n",
      "==============================================================================\n",
      "Omnibus:                      177.388   Durbin-Watson:                   0.829\n",
      "Prob(Omnibus):                  0.000   Jarque-Bera (JB):             7079.078\n",
      "Skew:                          -1.123   Prob(JB):                         0.00\n",
      "Kurtosis:                      23.333   Cond. No.                         116.\n",
      "==============================================================================\n",
      "\n",
      "Notes:\n",
      "[1] Standard Errors assume that the covariance matrix of the errors is correctly specified.\n"
     ]
    }
   ],
   "source": [
    "print(result_post.summary())"
   ]
  },
  {
   "cell_type": "code",
   "execution_count": null,
   "id": "1073f19a",
   "metadata": {},
   "outputs": [],
   "source": [
    "VAR_data1_diff_nolag[1000:]"
   ]
  },
  {
   "cell_type": "markdown",
   "id": "b84e2ecf",
   "metadata": {},
   "source": [
    "# Structural Breaks on Model 2"
   ]
  },
  {
   "cell_type": "code",
   "execution_count": null,
   "id": "1670fe8c",
   "metadata": {},
   "outputs": [],
   "source": [
    "VAR_data2.head(788)"
   ]
  },
  {
   "cell_type": "code",
   "execution_count": 48,
   "id": "cc964065",
   "metadata": {},
   "outputs": [],
   "source": [
    "# For the impl/realized\n",
    "X_pre_covid = sm.add_constant(((VAR_data2[0:787].drop(columns='Volume',inplace=False)).reset_index()).drop(columns=\"Date\",inplace=False))\n",
    "Y_pre_covid = ((VAR_data2[0:787].drop(columns=['implied_volatility','realized_volatility'],inplace=False)).reset_index()).drop(columns=\"Date\",inplace=False)\n",
    "X_post_covid = sm.add_constant(((VAR_data2[787:].drop(columns='Volume',inplace=False)).reset_index()).drop(columns=\"Date\",inplace=False))\n",
    "Y_post_covid  = ((VAR_data2[787:].drop(columns=['implied_volatility','realized_volatility'],inplace=False)).reset_index()).drop(columns=\"Date\",inplace=False)\n",
    "X_total = sm.add_constant(((VAR_data2.drop(columns='Volume',inplace=False)).reset_index()).drop(columns=\"Date\",inplace=False))\n",
    "Y_total = ((VAR_data2.drop(columns=['implied_volatility','realized_volatility'],inplace=False)).reset_index()).drop(columns=\"Date\",inplace=False)"
   ]
  },
  {
   "cell_type": "code",
   "execution_count": 49,
   "id": "50446302",
   "metadata": {},
   "outputs": [
    {
     "name": "stdout",
     "output_type": "stream",
     "text": [
      "CHOW TEST: \n",
      "Chow statistic is 130.31\n",
      "Table value of the F distribution is 3.0\n",
      "We can confirm the structural break on 95% confidence.\n"
     ]
    }
   ],
   "source": [
    "model_pre = sm.OLS(Y_pre_covid,X_pre_covid)\n",
    "model_post = sm.OLS(Y_post_covid,X_post_covid)\n",
    "model_full = sm.OLS(Y_total,X_total)\n",
    "result_pre = model_pre.fit()\n",
    "result_post = model_post.fit()\n",
    "result_full = model_full.fit()\n",
    "\n",
    "SQER = ((result_full.resid)**2).sum()\n",
    "SQE1 = ((result_pre.resid)**2).sum()\n",
    "SQE2 = ((result_post.resid)**2).sum()\n",
    "k = 2\n",
    "N = 1193\n",
    "\n",
    "Numerator = (SQER - (SQE1 + SQE2))/k\n",
    "Denominator = (SQE1 + SQE2) / (N-2*k)\n",
    "\n",
    "Chow_statistic = Numerator / Denominator\n",
    "F_table_value = scipy.stats.f.ppf(q=1-0.05, dfn=2, dfd=1193)\n",
    "\n",
    "print(\"CHOW TEST: \")\n",
    "if Chow_statistic>F_table_value:\n",
    "    print(\"Chow statistic is \"+ str(round(Chow_statistic,2)))\n",
    "    print(\"Table value of the F distribution is \"+ str(round(F_table_value,2))) \n",
    "    print(\"We can confirm the structural break on 95% confidence.\")\n",
    "else:\n",
    "    print(\"We cannot confirm the structural break on 95% confidence.\")"
   ]
  },
  {
   "cell_type": "code",
   "execution_count": 54,
   "id": "bf3982cf",
   "metadata": {},
   "outputs": [
    {
     "name": "stdout",
     "output_type": "stream",
     "text": [
      "                            OLS Regression Results                            \n",
      "==============================================================================\n",
      "Dep. Variable:                 Volume   R-squared:                       0.426\n",
      "Model:                            OLS   Adj. R-squared:                  0.423\n",
      "Method:                 Least Squares   F-statistic:                     149.3\n",
      "Date:                Thu, 16 Dec 2021   Prob (F-statistic):           2.96e-49\n",
      "Time:                        09:37:22   Log-Likelihood:                -5779.5\n",
      "No. Observations:                 406   AIC:                         1.157e+04\n",
      "Df Residuals:                     403   BIC:                         1.158e+04\n",
      "Df Model:                           2                                         \n",
      "Covariance Type:            nonrobust                                         \n",
      "=======================================================================================\n",
      "                          coef    std err          t      P>|t|      [0.025      0.975]\n",
      "---------------------------------------------------------------------------------------\n",
      "const               -7.834e+05   5.06e+04    -15.497      0.000   -8.83e+05   -6.84e+05\n",
      "realized_volatility  -1.79e+05    3.5e+04     -5.111      0.000   -2.48e+05    -1.1e+05\n",
      "implied_volatility   4.166e+06   3.04e+05     13.712      0.000    3.57e+06    4.76e+06\n",
      "==============================================================================\n",
      "Omnibus:                      114.968   Durbin-Watson:                   0.917\n",
      "Prob(Omnibus):                  0.000   Jarque-Bera (JB):             5309.774\n",
      "Skew:                          -0.247   Prob(JB):                         0.00\n",
      "Kurtosis:                      20.710   Cond. No.                         32.3\n",
      "==============================================================================\n",
      "\n",
      "Notes:\n",
      "[1] Standard Errors assume that the covariance matrix of the errors is correctly specified.\n"
     ]
    }
   ],
   "source": [
    "print(result_post.summary())"
   ]
  },
  {
   "cell_type": "code",
   "execution_count": null,
   "id": "b7d55ea9",
   "metadata": {},
   "outputs": [],
   "source": [
    "# For the difference_lagged\n",
    "X_pre_covid = sm.add_constant(((VAR_data2_diff_lag[0:787].drop(columns='Volume',inplace=False)).reset_index()).drop(columns=\"Date\",inplace=False))\n",
    "Y_pre_covid = ((VAR_data2_diff_lag[0:787].drop(columns=['difference_lagged'],inplace=False)).reset_index()).drop(columns=\"Date\",inplace=False)\n",
    "X_post_covid = sm.add_constant(((VAR_data2_diff_lag[787:].drop(columns='Volume',inplace=False)).reset_index()).drop(columns=\"Date\",inplace=False))\n",
    "Y_post_covid  = ((VAR_data2_diff_lag[787:].drop(columns=['difference_lagged'],inplace=False)).reset_index()).drop(columns=\"Date\",inplace=False)\n",
    "X_total = sm.add_constant(((VAR_data2_diff_lag.drop(columns='Volume',inplace=False)).reset_index()).drop(columns=\"Date\",inplace=False))\n",
    "Y_total = ((VAR_data2_diff_lag.drop(columns=['difference_lagged'],inplace=False)).reset_index()).drop(columns=\"Date\",inplace=False)"
   ]
  },
  {
   "cell_type": "code",
   "execution_count": null,
   "id": "48933547",
   "metadata": {},
   "outputs": [],
   "source": [
    "model_pre = sm.OLS(Y_pre_covid,X_pre_covid)\n",
    "model_post = sm.OLS(Y_post_covid,X_post_covid)\n",
    "model_full = sm.OLS(Y_total,X_total)\n",
    "result_pre = model_pre.fit()\n",
    "result_post = model_post.fit()\n",
    "result_full = model_full.fit()\n",
    "\n",
    "SQER = ((result_full.resid)**2).sum()\n",
    "SQE1 = ((result_pre.resid)**2).sum()\n",
    "SQE2 = ((result_post.resid)**2).sum()\n",
    "k = 1\n",
    "N = 1193\n",
    "\n",
    "Numerator = (SQER - (SQE1 + SQE2))/k\n",
    "Denominator = (SQE1 + SQE2) / (N-2*k)\n",
    "\n",
    "Chow_statistic = Numerator / Denominator\n",
    "F_table_value = scipy.stats.f.ppf(q=1-0.05, dfn=1, dfd=1193)\n",
    "\n",
    "print(\"CHOW TEST: \")\n",
    "if Chow_statistic>F_table_value:\n",
    "    print(\"Chow statistic is \"+ str(round(Chow_statistic,2)))\n",
    "    print(\"Table value of the F distribution is \"+ str(round(F_table_value,2))) \n",
    "    print(\"We can confirm the structural break on 95% confidence.\")\n",
    "else:\n",
    "    print(\"Chow statistic is \"+ str(round(Chow_statistic,2)))\n",
    "    print(\"Table value of the F distribution is \"+ str(round(F_table_value,2))) \n",
    "    print(\"We cannot confirm the structural break on 95% confidence.\")"
   ]
  },
  {
   "cell_type": "code",
   "execution_count": null,
   "id": "0d869f66",
   "metadata": {},
   "outputs": [],
   "source": [
    "# For the difference_nolag\n",
    "X_pre_covid = sm.add_constant(((VAR_data2_diff_nolag[0:787].drop(columns='Volume',inplace=False)).reset_index()).drop(columns=\"Date\",inplace=False))\n",
    "Y_pre_covid = ((VAR_data2_diff_nolag[0:787].drop(columns=['difference'],inplace=False)).reset_index()).drop(columns=\"Date\",inplace=False)\n",
    "X_post_covid = sm.add_constant(((VAR_data2_diff_nolag[787:].drop(columns='Volume',inplace=False)).reset_index()).drop(columns=\"Date\",inplace=False))\n",
    "Y_post_covid  = ((VAR_data2_diff_nolag[787:].drop(columns=['difference'],inplace=False)).reset_index()).drop(columns=\"Date\",inplace=False)\n",
    "X_total = sm.add_constant(((VAR_data2_diff_nolag.drop(columns='Volume',inplace=False)).reset_index()).drop(columns=\"Date\",inplace=False))\n",
    "Y_total = ((VAR_data2_diff_nolag.drop(columns=['difference'],inplace=False)).reset_index()).drop(columns=\"Date\",inplace=False)"
   ]
  },
  {
   "cell_type": "code",
   "execution_count": null,
   "id": "b7b4fab6",
   "metadata": {},
   "outputs": [],
   "source": [
    "model_pre = sm.OLS(Y_pre_covid,X_pre_covid)\n",
    "model_post = sm.OLS(Y_post_covid,X_post_covid)\n",
    "model_full = sm.OLS(Y_total,X_total)\n",
    "result_pre = model_pre.fit()\n",
    "result_post = model_post.fit()\n",
    "result_full = model_full.fit()\n",
    "\n",
    "SQER = ((result_full.resid)**2).sum()\n",
    "SQE1 = ((result_pre.resid)**2).sum()\n",
    "SQE2 = ((result_post.resid)**2).sum()\n",
    "k = 1\n",
    "N = 1193\n",
    "\n",
    "Numerator = (SQER - (SQE1 + SQE2))/k\n",
    "Denominator = (SQE1 + SQE2) / (N-2*k)\n",
    "\n",
    "Chow_statistic = Numerator / Denominator\n",
    "F_table_value = scipy.stats.f.ppf(q=1-0.05, dfn=1, dfd=1193)\n",
    "\n",
    "print(\"CHOW TEST: \")\n",
    "if Chow_statistic>F_table_value:\n",
    "    print(\"Chow statistic is \"+ str(round(Chow_statistic,2)))\n",
    "    print(\"Table value of the F distribution is \"+ str(round(F_table_value,2))) \n",
    "    print(\"We can confirm the structural break on 95% confidence.\")\n",
    "else:\n",
    "    print(\"Chow statistic is \"+ str(round(Chow_statistic,2)))\n",
    "    print(\"Table value of the F distribution is \"+ str(round(F_table_value,2))) \n",
    "    print(\"We cannot confirm the structural break on 95% confidence.\")"
   ]
  },
  {
   "cell_type": "code",
   "execution_count": null,
   "id": "87c75bed",
   "metadata": {},
   "outputs": [],
   "source": [
    "VAR_data1_diff_nolag['sign_counter'] = np.sign(VAR_data1_diff_nolag.difference)"
   ]
  },
  {
   "cell_type": "code",
   "execution_count": null,
   "id": "439ff923",
   "metadata": {
    "scrolled": true
   },
   "outputs": [],
   "source": [
    "VAR_data1_diff_nolag['sign_counter'][994:].value_counts()"
   ]
  },
  {
   "cell_type": "code",
   "execution_count": null,
   "id": "b0bd98b5",
   "metadata": {},
   "outputs": [],
   "source": [
    "VAR_data1_diff_nolag.head(994)"
   ]
  },
  {
   "cell_type": "code",
   "execution_count": null,
   "id": "542cf667",
   "metadata": {},
   "outputs": [],
   "source": [
    "VAR_data2_diff_lag.head(740)"
   ]
  },
  {
   "cell_type": "code",
   "execution_count": 38,
   "id": "b106a183",
   "metadata": {},
   "outputs": [],
   "source": [
    "def coefplot(results):\n",
    "    '''\n",
    "    Takes in results of OLS model and returns a plot of \n",
    "    the coefficients with 95% confidence intervals.\n",
    "    \n",
    "    Removes intercept, so if uncentered will return error.\n",
    "    '''\n",
    "    # Create dataframe of results summary \n",
    "    coef_df = pd.DataFrame(results.summary().tables[1].data)\n",
    "    \n",
    "    # Add column names\n",
    "    coef_df.columns = coef_df.iloc[0]\n",
    "\n",
    "    # Drop the extra row with column labels\n",
    "    coef_df=coef_df.drop(0)\n",
    "\n",
    "    # Set index to variable names \n",
    "    coef_df = coef_df.set_index(coef_df.columns[0])\n",
    "\n",
    "    # Change datatype from object to float\n",
    "    coef_df = coef_df.astype(float)\n",
    "\n",
    "    # Get errors; (coef - lower bound of conf interval)\n",
    "    errors = coef_df['coef'] - coef_df['[0.025']\n",
    "    \n",
    "    # Append errors column to dataframe\n",
    "    coef_df['errors'] = errors\n",
    "\n",
    "    # Drop the constant for plotting\n",
    "    coef_df = coef_df.drop(['const'])\n",
    "\n",
    "    # Sort values by coef ascending\n",
    "    coef_df = coef_df.sort_values(by=['coef'])\n",
    "\n",
    "    ### Plot Coefficients ###\n",
    "\n",
    "    # x-labels\n",
    "    variables = list(coef_df.index.values)\n",
    "    \n",
    "    # Add variables column to dataframe\n",
    "    coef_df['variables'] = variables\n",
    "    \n",
    "    # Set sns plot style back to 'poster'\n",
    "    # This will make bars wide on plot\n",
    "   # sns.set_context(\"poster\")\n",
    "\n",
    "    # Define figure, axes, and plot\n",
    "    fig, ax = plt.subplots(figsize=(4, 2))\n",
    "    \n",
    "    # Error bars for 95% confidence interval\n",
    "    # Can increase capsize to add whiskers\n",
    "    coef_df.plot(x='variables', y='coef', kind='bar',\n",
    "                 ax=ax, color='none', fontsize=14, \n",
    "                 ecolor='steelblue',capsize=0,\n",
    "                 yerr='errors', legend=False)\n",
    "    \n",
    "    # Set title & labels\n",
    "    plt.title('Coefficients Post Covid',fontsize=10)\n",
    "    #ax.set_ylabel('Coefficients',fontsize=10)\n",
    "    ax.set_xlabel('',fontsize=12)\n",
    "    for tick in ax.get_xticklabels():\n",
    "        tick.set_rotation(0)\n",
    "    for tick in ax.get_yticklabels():\n",
    "        tick.set_rotation(90)\n",
    "    \n",
    "    plt.xticks(fontsize=8)\n",
    "    plt.yticks(fontsize=8)\n",
    "    #Coefficients\n",
    "    ax.scatter(x=pd.np.arange(coef_df.shape[0]), \n",
    "               marker='o', s=80, \n",
    "               y=coef_df['coef'], color='steelblue')\n",
    "    #[i.set_linewidth(1.0) for i in ax.spines.values()]\n",
    "    # Line to define zero on the y-axis\n",
    "    ax.axhline(y=0, linestyle='--', color='red', linewidth=1)\n",
    "    plt.savefig('postcoefficients.png', bbox_inches='tight')\n",
    "    return plt.show()"
   ]
  },
  {
   "cell_type": "code",
   "execution_count": null,
   "id": "7b7d0aa0",
   "metadata": {
    "scrolled": true
   },
   "outputs": [],
   "source": [
    "coefplot(result_pre)"
   ]
  },
  {
   "cell_type": "code",
   "execution_count": null,
   "id": "43a1c9bd",
   "metadata": {},
   "outputs": [],
   "source": [
    "coefplot(result_post)"
   ]
  },
  {
   "cell_type": "code",
   "execution_count": null,
   "id": "eeeafde7",
   "metadata": {},
   "outputs": [],
   "source": [
    "coefplot(result_full)"
   ]
  },
  {
   "cell_type": "markdown",
   "id": "4c57e790",
   "metadata": {},
   "source": [
    "# Impulse Response Functions"
   ]
  },
  {
   "cell_type": "code",
   "execution_count": null,
   "id": "1fd709c9",
   "metadata": {},
   "outputs": [],
   "source": []
  },
  {
   "cell_type": "code",
   "execution_count": 43,
   "id": "f50b7af4",
   "metadata": {},
   "outputs": [],
   "source": [
    "# Saving for use in other notebook\n",
    "############################\n",
    "VAR_data1_diff_nolag.to_csv('StructuralBreakViz.csv')\n",
    "############################\n",
    "#Benchmark.to_csv('Benchmark.csv')\n",
    "############################\n",
    "VAR_data1.to_csv('Question13.csv')"
   ]
  },
  {
   "cell_type": "code",
   "execution_count": null,
   "id": "5163812e",
   "metadata": {},
   "outputs": [],
   "source": []
  }
 ],
 "metadata": {
  "kernelspec": {
   "display_name": "Python 3",
   "language": "python",
   "name": "python3"
  },
  "language_info": {
   "codemirror_mode": {
    "name": "ipython",
    "version": 3
   },
   "file_extension": ".py",
   "mimetype": "text/x-python",
   "name": "python",
   "nbconvert_exporter": "python",
   "pygments_lexer": "ipython3",
   "version": "3.8.8"
  }
 },
 "nbformat": 4,
 "nbformat_minor": 5
}
