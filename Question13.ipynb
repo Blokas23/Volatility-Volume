{
 "cells": [
  {
   "cell_type": "code",
   "execution_count": 77,
   "id": "e439153d",
   "metadata": {},
   "outputs": [],
   "source": [
    "import numpy as np\n",
    "import pandas as pd\n",
    "import statsmodels.api as sm\n",
    "from statsmodels.tsa.api import VAR\n",
    "from statsmodels.tsa.stattools import adfuller\n",
    "from statsmodels.tools.eval_measures import rmse, aic\n",
    "from statsmodels.tsa.stattools import grangercausalitytests\n",
    "from statsmodels.stats.stattools import durbin_watson\n",
    "import seaborn as sns\n",
    "from IPython.core.interactiveshell import InteractiveShell\n",
    "InteractiveShell.ast_node_interactivity = \"all\"\n",
    "import scipy.stats\n",
    "import matplotlib.pyplot as plt\n",
    "from statsmodels.tsa.vector_ar.irf import IRAnalysis\n",
    "import warnings\n",
    "warnings.filterwarnings(\"ignore\", category=Warning)"
   ]
  },
  {
   "cell_type": "code",
   "execution_count": 78,
   "id": "7c604f94",
   "metadata": {},
   "outputs": [],
   "source": [
    "data = pd.read_csv(\"Question13.csv\").set_index(\"Date\")\n",
    "data.index = pd.to_datetime(data.index)"
   ]
  },
  {
   "cell_type": "code",
   "execution_count": 79,
   "id": "aacbe8a2",
   "metadata": {},
   "outputs": [
    {
     "data": {
      "text/html": [
       "<div>\n",
       "<style scoped>\n",
       "    .dataframe tbody tr th:only-of-type {\n",
       "        vertical-align: middle;\n",
       "    }\n",
       "\n",
       "    .dataframe tbody tr th {\n",
       "        vertical-align: top;\n",
       "    }\n",
       "\n",
       "    .dataframe thead th {\n",
       "        text-align: right;\n",
       "    }\n",
       "</style>\n",
       "<table border=\"1\" class=\"dataframe\">\n",
       "  <thead>\n",
       "    <tr style=\"text-align: right;\">\n",
       "      <th></th>\n",
       "      <th>Volume</th>\n",
       "      <th>realized_volatility</th>\n",
       "      <th>implied_volatility</th>\n",
       "    </tr>\n",
       "    <tr>\n",
       "      <th>Date</th>\n",
       "      <th></th>\n",
       "      <th></th>\n",
       "      <th></th>\n",
       "    </tr>\n",
       "  </thead>\n",
       "  <tbody>\n",
       "    <tr>\n",
       "      <th>2017-02-02</th>\n",
       "      <td>-23537.995587</td>\n",
       "      <td>8.837903</td>\n",
       "      <td>16.1939</td>\n",
       "    </tr>\n",
       "    <tr>\n",
       "      <th>2017-02-03</th>\n",
       "      <td>-54932.738897</td>\n",
       "      <td>9.464721</td>\n",
       "      <td>15.1332</td>\n",
       "    </tr>\n",
       "    <tr>\n",
       "      <th>2017-02-06</th>\n",
       "      <td>488004.007571</td>\n",
       "      <td>11.440489</td>\n",
       "      <td>16.4328</td>\n",
       "    </tr>\n",
       "    <tr>\n",
       "      <th>2017-02-07</th>\n",
       "      <td>64470.445165</td>\n",
       "      <td>8.552389</td>\n",
       "      <td>16.9147</td>\n",
       "    </tr>\n",
       "    <tr>\n",
       "      <th>2017-02-08</th>\n",
       "      <td>374958.159980</td>\n",
       "      <td>12.015388</td>\n",
       "      <td>16.8310</td>\n",
       "    </tr>\n",
       "  </tbody>\n",
       "</table>\n",
       "</div>"
      ],
      "text/plain": [
       "                   Volume  realized_volatility  implied_volatility\n",
       "Date                                                              \n",
       "2017-02-02  -23537.995587             8.837903             16.1939\n",
       "2017-02-03  -54932.738897             9.464721             15.1332\n",
       "2017-02-06  488004.007571            11.440489             16.4328\n",
       "2017-02-07   64470.445165             8.552389             16.9147\n",
       "2017-02-08  374958.159980            12.015388             16.8310"
      ]
     },
     "execution_count": 79,
     "metadata": {},
     "output_type": "execute_result"
    }
   ],
   "source": [
    "data.head()"
   ]
  },
  {
   "cell_type": "code",
   "execution_count": 80,
   "id": "387925dd",
   "metadata": {},
   "outputs": [
    {
     "data": {
      "text/plain": [
       "  Summary of Regression Results   \n",
       "==================================\n",
       "Model:                         VAR\n",
       "Method:                        OLS\n",
       "Date:           Tue, 21, Dec, 2021\n",
       "Time:                     08:06:10\n",
       "--------------------------------------------------------------------\n",
       "No. of Equations:         3.00000    BIC:                    28.5978\n",
       "Nobs:                     1192.00    HQIC:                   28.5659\n",
       "Log likelihood:          -22075.9    FPE:                2.49824e+12\n",
       "AIC:                      28.5466    Det(Omega_mle):     2.47325e+12\n",
       "--------------------------------------------------------------------\n",
       "Results for equation Volume\n",
       "=========================================================================================\n",
       "                            coefficient       std. error           t-stat            prob\n",
       "-----------------------------------------------------------------------------------------\n",
       "const                    -128687.710342     27345.704161           -4.706           0.000\n",
       "L1.Volume                      0.663794         0.029829           22.254           0.000\n",
       "L1.realized_volatility     -7624.442694      3050.530636           -2.499           0.012\n",
       "L1.implied_volatility      11535.897000      2465.045499            4.680           0.000\n",
       "=========================================================================================\n",
       "\n",
       "Results for equation realized_volatility\n",
       "=========================================================================================\n",
       "                            coefficient       std. error           t-stat            prob\n",
       "-----------------------------------------------------------------------------------------\n",
       "const                         -1.014737         0.325718           -3.115           0.002\n",
       "L1.Volume                      0.000001         0.000000            2.943           0.003\n",
       "L1.realized_volatility         0.417864         0.036335           11.500           0.000\n",
       "L1.implied_volatility          0.419711         0.029361           14.295           0.000\n",
       "=========================================================================================\n",
       "\n",
       "Results for equation implied_volatility\n",
       "=========================================================================================\n",
       "                            coefficient       std. error           t-stat            prob\n",
       "-----------------------------------------------------------------------------------------\n",
       "const                          0.724900         0.156190            4.641           0.000\n",
       "L1.Volume                      0.000001         0.000000            3.608           0.000\n",
       "L1.realized_volatility        -0.026519         0.017424           -1.522           0.128\n",
       "L1.implied_volatility          0.978853         0.014080           69.523           0.000\n",
       "=========================================================================================\n",
       "\n",
       "Correlation matrix of residuals\n",
       "                         Volume  realized_volatility  implied_volatility\n",
       "Volume                 1.000000             0.673564            0.461995\n",
       "realized_volatility    0.673564             1.000000            0.529506\n",
       "implied_volatility     0.461995             0.529506            1.000000\n",
       "\n"
      ]
     },
     "execution_count": 80,
     "metadata": {},
     "output_type": "execute_result"
    }
   ],
   "source": [
    "model = VAR(data)\n",
    "model_fitted = model.fit(1)\n",
    "model_fitted.summary()"
   ]
  },
  {
   "cell_type": "code",
   "execution_count": 81,
   "id": "1fa4297e",
   "metadata": {},
   "outputs": [
    {
     "data": {
      "text/plain": [
       "  Summary of Regression Results   \n",
       "==================================\n",
       "Model:                         VAR\n",
       "Method:                        OLS\n",
       "Date:           Tue, 21, Dec, 2021\n",
       "Time:                     08:06:10\n",
       "--------------------------------------------------------------------\n",
       "No. of Equations:         3.00000    BIC:                    28.5842\n",
       "Nobs:                     1191.00    HQIC:                   28.5284\n",
       "Log likelihood:          -22017.4    FPE:                2.37163e+12\n",
       "AIC:                      28.4946    Det(Omega_mle):     2.33030e+12\n",
       "--------------------------------------------------------------------\n",
       "Results for equation Volume\n",
       "=========================================================================================\n",
       "                            coefficient       std. error           t-stat            prob\n",
       "-----------------------------------------------------------------------------------------\n",
       "const                    -113032.979334     28238.364488           -4.003           0.000\n",
       "L1.Volume                      0.631488         0.039803           15.865           0.000\n",
       "L1.realized_volatility    -10738.251524      3486.610828           -3.080           0.002\n",
       "L1.implied_volatility      25763.706417      6051.870807            4.257           0.000\n",
       "L2.Volume                      0.014829         0.038214            0.388           0.698\n",
       "L2.realized_volatility      7908.817384      3483.562157            2.270           0.023\n",
       "L2.implied_volatility     -18069.059469      6002.485231           -3.010           0.003\n",
       "=========================================================================================\n",
       "\n",
       "Results for equation realized_volatility\n",
       "=========================================================================================\n",
       "                            coefficient       std. error           t-stat            prob\n",
       "-----------------------------------------------------------------------------------------\n",
       "const                         -0.453275         0.330549           -1.371           0.170\n",
       "L1.Volume                      0.000000         0.000000            0.230           0.818\n",
       "L1.realized_volatility         0.349313         0.040813            8.559           0.000\n",
       "L1.implied_volatility          0.600430         0.070841            8.476           0.000\n",
       "L2.Volume                      0.000001         0.000000            2.353           0.019\n",
       "L2.realized_volatility         0.176354         0.040777            4.325           0.000\n",
       "L2.implied_volatility         -0.278035         0.070263           -3.957           0.000\n",
       "=========================================================================================\n",
       "\n",
       "Results for equation implied_volatility\n",
       "=========================================================================================\n",
       "                            coefficient       std. error           t-stat            prob\n",
       "-----------------------------------------------------------------------------------------\n",
       "const                          0.832567         0.161438            5.157           0.000\n",
       "L1.Volume                      0.000001         0.000000            2.524           0.012\n",
       "L1.realized_volatility        -0.033904         0.019933           -1.701           0.089\n",
       "L1.implied_volatility          0.920379         0.034598           26.602           0.000\n",
       "L2.Volume                      0.000000         0.000000            1.056           0.291\n",
       "L2.realized_volatility         0.015768         0.019915            0.792           0.428\n",
       "L2.implied_volatility          0.047631         0.034316            1.388           0.165\n",
       "=========================================================================================\n",
       "\n",
       "Correlation matrix of residuals\n",
       "                         Volume  realized_volatility  implied_volatility\n",
       "Volume                 1.000000             0.672653            0.465424\n",
       "realized_volatility    0.672653             1.000000            0.533498\n",
       "implied_volatility     0.465424             0.533498            1.000000\n",
       "\n"
      ]
     },
     "execution_count": 81,
     "metadata": {},
     "output_type": "execute_result"
    }
   ],
   "source": [
    "model = VAR(data)\n",
    "model_fitted = model.fit(2)\n",
    "model_fitted.summary()"
   ]
  },
  {
   "cell_type": "code",
   "execution_count": 82,
   "id": "ab964cff",
   "metadata": {},
   "outputs": [],
   "source": [
    "X_total = sm.add_constant(((data.drop(columns='Volume',inplace=False)).reset_index()).drop(columns=\"Date\",inplace=False))\n",
    "Y_total = ((data.drop(columns=['implied_volatility','realized_volatility'],inplace=False)).reset_index()).drop(columns=\"Date\",inplace=False)"
   ]
  },
  {
   "cell_type": "code",
   "execution_count": 83,
   "id": "da020462",
   "metadata": {},
   "outputs": [],
   "source": [
    "model_full = sm.OLS(Y_total,X_total)"
   ]
  },
  {
   "cell_type": "code",
   "execution_count": 84,
   "id": "57a4be26",
   "metadata": {},
   "outputs": [
    {
     "data": {
      "text/plain": [
       "const                 -300485.333964\n",
       "realized_volatility     58649.387200\n",
       "implied_volatility     -21200.746041\n",
       "dtype: float64"
      ]
     },
     "execution_count": 84,
     "metadata": {},
     "output_type": "execute_result"
    }
   ],
   "source": [
    "results = model_full.fit()\n",
    "results.params"
   ]
  },
  {
   "cell_type": "code",
   "execution_count": 89,
   "id": "01d65b94",
   "metadata": {},
   "outputs": [],
   "source": [
    "data_1 = data[0:787]"
   ]
  },
  {
   "cell_type": "code",
   "execution_count": 90,
   "id": "a6c48287",
   "metadata": {},
   "outputs": [],
   "source": [
    "X_total1 = sm.add_constant(((data_1.drop(columns='Volume',inplace=False)).reset_index()).drop(columns=\"Date\",inplace=False))\n",
    "Y_total1 = ((data_1.drop(columns=['implied_volatility','realized_volatility'],inplace=False)).reset_index()).drop(columns=\"Date\",inplace=False)"
   ]
  },
  {
   "cell_type": "code",
   "execution_count": 91,
   "id": "ef225cc4",
   "metadata": {},
   "outputs": [
    {
     "data": {
      "text/plain": [
       "const                 -837368.537615\n",
       "realized_volatility     54782.673097\n",
       "implied_volatility      16841.137701\n",
       "dtype: float64"
      ]
     },
     "execution_count": 91,
     "metadata": {},
     "output_type": "execute_result"
    }
   ],
   "source": [
    "model_full1 = sm.OLS(Y_total1,X_total1)\n",
    "results = model_full1.fit()\n",
    "results.params"
   ]
  },
  {
   "cell_type": "code",
   "execution_count": 92,
   "id": "bf48c815",
   "metadata": {
    "scrolled": false
   },
   "outputs": [
    {
     "data": {
      "text/plain": [
       "  Summary of Regression Results   \n",
       "==================================\n",
       "Model:                         VAR\n",
       "Method:                        OLS\n",
       "Date:           Tue, 21, Dec, 2021\n",
       "Time:                     08:07:58\n",
       "--------------------------------------------------------------------\n",
       "No. of Equations:         3.00000    BIC:                    27.8485\n",
       "Nobs:                     786.000    HQIC:                   27.8047\n",
       "Log likelihood:          -14250.3    FPE:                1.15749e+12\n",
       "AIC:                      27.7773    Det(Omega_mle):     1.14000e+12\n",
       "--------------------------------------------------------------------\n",
       "Results for equation Volume\n",
       "=========================================================================================\n",
       "                            coefficient       std. error           t-stat            prob\n",
       "-----------------------------------------------------------------------------------------\n",
       "const                    -417228.190280     61951.937164           -6.735           0.000\n",
       "L1.Volume                      0.587138         0.038712           15.167           0.000\n",
       "L1.realized_volatility    -15264.046419      4544.322833           -3.359           0.001\n",
       "L1.implied_volatility      36353.161757      4995.242791            7.278           0.000\n",
       "=========================================================================================\n",
       "\n",
       "Results for equation realized_volatility\n",
       "=========================================================================================\n",
       "                            coefficient       std. error           t-stat            prob\n",
       "-----------------------------------------------------------------------------------------\n",
       "const                         -2.880272         0.617157           -4.667           0.000\n",
       "L1.Volume                      0.000000         0.000000            0.735           0.463\n",
       "L1.realized_volatility         0.274679         0.045270            6.068           0.000\n",
       "L1.implied_volatility          0.660012         0.049762           13.263           0.000\n",
       "=========================================================================================\n",
       "\n",
       "Results for equation implied_volatility\n",
       "=========================================================================================\n",
       "                            coefficient       std. error           t-stat            prob\n",
       "-----------------------------------------------------------------------------------------\n",
       "const                          0.612120         0.301531            2.030           0.042\n",
       "L1.Volume                      0.000000         0.000000            1.374           0.169\n",
       "L1.realized_volatility        -0.012023         0.022118           -0.544           0.587\n",
       "L1.implied_volatility          0.971866         0.024313           39.973           0.000\n",
       "=========================================================================================\n",
       "\n",
       "Correlation matrix of residuals\n",
       "                         Volume  realized_volatility  implied_volatility\n",
       "Volume                 1.000000             0.635525            0.472951\n",
       "realized_volatility    0.635525             1.000000            0.519209\n",
       "implied_volatility     0.472951             0.519209            1.000000\n",
       "\n"
      ]
     },
     "execution_count": 92,
     "metadata": {},
     "output_type": "execute_result"
    }
   ],
   "source": [
    "model = VAR(data_1)\n",
    "model_fitted = model.fit(1)\n",
    "model_fitted.summary()"
   ]
  },
  {
   "cell_type": "code",
   "execution_count": 104,
   "id": "51378be7",
   "metadata": {},
   "outputs": [
    {
     "data": {
      "text/plain": [
       "const                 -195794.744810\n",
       "realized_volatility     53726.091145\n",
       "implied_volatility     -23587.426121\n",
       "dtype: float64"
      ]
     },
     "execution_count": 104,
     "metadata": {},
     "output_type": "execute_result"
    }
   ],
   "source": [
    "data_2 = data[787:]\n",
    "X_total2 = sm.add_constant(((data_2.drop(columns='Volume',inplace=False)).reset_index()).drop(columns=\"Date\",inplace=False))\n",
    "Y_total2 = ((data_2.drop(columns=['implied_volatility','realized_volatility'],inplace=False)).reset_index()).drop(columns=\"Date\",inplace=False)\n",
    "model_full2 = sm.OLS(Y_total2,X_total2)\n",
    "results = model_full2.fit()\n",
    "results.params"
   ]
  },
  {
   "cell_type": "code",
   "execution_count": 105,
   "id": "171ba63e",
   "metadata": {},
   "outputs": [
    {
     "data": {
      "text/plain": [
       "  Summary of Regression Results   \n",
       "==================================\n",
       "Model:                         VAR\n",
       "Method:                        OLS\n",
       "Date:           Tue, 21, Dec, 2021\n",
       "Time:                     08:13:41\n",
       "--------------------------------------------------------------------\n",
       "No. of Equations:         3.00000    BIC:                    29.1557\n",
       "Nobs:                     404.000    HQIC:                   29.0301\n",
       "Log likelihood:          -7546.20    FPE:                3.73119e+12\n",
       "AIC:                      28.9477    Det(Omega_mle):     3.54377e+12\n",
       "--------------------------------------------------------------------\n",
       "Results for equation Volume\n",
       "=========================================================================================\n",
       "                            coefficient       std. error           t-stat            prob\n",
       "-----------------------------------------------------------------------------------------\n",
       "const                    -178624.368667     60384.206626           -2.958           0.003\n",
       "L1.Volume                      0.629028         0.069802            9.012           0.000\n",
       "L1.realized_volatility     -3191.566084      5113.778952           -0.624           0.533\n",
       "L1.implied_volatility       3178.158467      8099.487664            0.392           0.695\n",
       "L2.Volume                     -0.050359         0.064911           -0.776           0.438\n",
       "L2.realized_volatility      -256.729903      5018.652564           -0.051           0.959\n",
       "L2.implied_volatility       5963.369867      8020.500872            0.744           0.457\n",
       "=========================================================================================\n",
       "\n",
       "Results for equation realized_volatility\n",
       "=========================================================================================\n",
       "                            coefficient       std. error           t-stat            prob\n",
       "-----------------------------------------------------------------------------------------\n",
       "const                         -2.696949         0.904417           -2.982           0.003\n",
       "L1.Volume                      0.000001         0.000001            1.074           0.283\n",
       "L1.realized_volatility         0.338764         0.076593            4.423           0.000\n",
       "L1.implied_volatility          0.463780         0.121312            3.823           0.000\n",
       "L2.Volume                      0.000001         0.000001            0.578           0.563\n",
       "L2.realized_volatility         0.090407         0.075168            1.203           0.229\n",
       "L2.implied_volatility         -0.022097         0.120129           -0.184           0.854\n",
       "=========================================================================================\n",
       "\n",
       "Results for equation implied_volatility\n",
       "=========================================================================================\n",
       "                            coefficient       std. error           t-stat            prob\n",
       "-----------------------------------------------------------------------------------------\n",
       "const                          2.174897         0.423570            5.135           0.000\n",
       "L1.Volume                      0.000001         0.000000            2.231           0.026\n",
       "L1.realized_volatility        -0.008933         0.035871           -0.249           0.803\n",
       "L1.implied_volatility          0.772906         0.056815           13.604           0.000\n",
       "L2.Volume                      0.000001         0.000000            1.772           0.076\n",
       "L2.realized_volatility        -0.015819         0.035204           -0.449           0.653\n",
       "L2.implied_volatility          0.149721         0.056260            2.661           0.008\n",
       "=========================================================================================\n",
       "\n",
       "Correlation matrix of residuals\n",
       "                         Volume  realized_volatility  implied_volatility\n",
       "Volume                 1.000000             0.721920            0.427395\n",
       "realized_volatility    0.721920             1.000000            0.536770\n",
       "implied_volatility     0.427395             0.536770            1.000000\n",
       "\n"
      ]
     },
     "execution_count": 105,
     "metadata": {},
     "output_type": "execute_result"
    }
   ],
   "source": [
    "model = VAR(data_2)\n",
    "model_fitted = model.fit(2)\n",
    "model_fitted.summary()"
   ]
  },
  {
   "cell_type": "code",
   "execution_count": 95,
   "id": "427b8372",
   "metadata": {},
   "outputs": [],
   "source": [
    "# For the impl/realized\n",
    "X_pre_covid = sm.add_constant(((data[0:787].drop(columns='Volume',inplace=False)).reset_index()).drop(columns=\"Date\",inplace=False))\n",
    "Y_pre_covid = ((data[0:787].drop(columns=['implied_volatility','realized_volatility'],inplace=False)).reset_index()).drop(columns=\"Date\",inplace=False)\n",
    "X_post_covid = sm.add_constant(((data[787:].drop(columns='Volume',inplace=False)).reset_index()).drop(columns=\"Date\",inplace=False))\n",
    "Y_post_covid  = ((data[787:].drop(columns=['implied_volatility','realized_volatility'],inplace=False)).reset_index()).drop(columns=\"Date\",inplace=False)\n",
    "X_total = sm.add_constant(((data.drop(columns='Volume',inplace=False)).reset_index()).drop(columns=\"Date\",inplace=False))\n",
    "Y_total = ((data.drop(columns=['implied_volatility','realized_volatility'],inplace=False)).reset_index()).drop(columns=\"Date\",inplace=False)"
   ]
  },
  {
   "cell_type": "code",
   "execution_count": 67,
   "id": "3101a345",
   "metadata": {},
   "outputs": [
    {
     "name": "stdout",
     "output_type": "stream",
     "text": [
      "CHOW TEST: \n",
      "Chow statistic is 104.15\n",
      "Table value of the F distribution is 3.0\n",
      "We can confirm the structural break on 95% confidence.\n"
     ]
    }
   ],
   "source": [
    "model_pre = sm.OLS(Y_pre_covid,X_pre_covid)\n",
    "model_post = sm.OLS(Y_post_covid,X_post_covid)\n",
    "model_full = sm.OLS(Y_total,X_total)\n",
    "result_pre = model_pre.fit()\n",
    "result_post = model_post.fit()\n",
    "result_full = model_full.fit()\n",
    "\n",
    "SQER = ((result_full.resid)**2).sum()\n",
    "SQE1 = ((result_pre.resid)**2).sum()\n",
    "SQE2 = ((result_post.resid)**2).sum()\n",
    "k = 2\n",
    "N = 1193\n",
    "\n",
    "Numerator = (SQER - (SQE1 + SQE2))/k\n",
    "Denominator = (SQE1 + SQE2) / (N-2*k)\n",
    "\n",
    "Chow_statistic = Numerator / Denominator\n",
    "F_table_value = scipy.stats.f.ppf(q=1-0.05, dfn=2, dfd=1193)\n",
    "\n",
    "print(\"CHOW TEST: \")\n",
    "if Chow_statistic>F_table_value:\n",
    "    print(\"Chow statistic is \"+ str(round(Chow_statistic,2)))\n",
    "    print(\"Table value of the F distribution is \"+ str(round(F_table_value,2))) \n",
    "    print(\"We can confirm the structural break on 95% confidence.\")\n",
    "else:\n",
    "    print(\"We cannot confirm the structural break on 95% confidence.\")"
   ]
  },
  {
   "cell_type": "code",
   "execution_count": 68,
   "id": "357438a1",
   "metadata": {},
   "outputs": [],
   "source": [
    "def coefplot(results):\n",
    "    '''\n",
    "    Takes in results of OLS model and returns a plot of \n",
    "    the coefficients with 95% confidence intervals.\n",
    "    \n",
    "    Removes intercept, so if uncentered will return error.\n",
    "    '''\n",
    "    # Create dataframe of results summary \n",
    "    coef_df = pd.DataFrame(results.summary().tables[1].data)\n",
    "    \n",
    "    # Add column names\n",
    "    coef_df.columns = coef_df.iloc[0]\n",
    "\n",
    "    # Drop the extra row with column labels\n",
    "    coef_df=coef_df.drop(0)\n",
    "\n",
    "    # Set index to variable names \n",
    "    coef_df = coef_df.set_index(coef_df.columns[0])\n",
    "\n",
    "    # Change datatype from object to float\n",
    "    coef_df = coef_df.astype(float)\n",
    "\n",
    "    # Get errors; (coef - lower bound of conf interval)\n",
    "    errors = coef_df['coef'] - coef_df['[0.025']\n",
    "    \n",
    "    # Append errors column to dataframe\n",
    "    coef_df['errors'] = errors\n",
    "\n",
    "    # Drop the constant for plotting\n",
    "    coef_df = coef_df.drop(['const'])\n",
    "\n",
    "    # Sort values by coef ascending\n",
    "    coef_df = coef_df.sort_values(by=['coef'])\n",
    "\n",
    "    ### Plot Coefficients ###\n",
    "\n",
    "    # x-labels\n",
    "    variables = list(coef_df.index.values)\n",
    "    \n",
    "    # Add variables column to dataframe\n",
    "    coef_df['variables'] = variables\n",
    "    \n",
    "    # Set sns plot style back to 'poster'\n",
    "    # This will make bars wide on plot\n",
    "   # sns.set_context(\"poster\")\n",
    "\n",
    "    # Define figure, axes, and plot\n",
    "    fig, ax = plt.subplots(figsize=(10, 4))\n",
    "    \n",
    "    # Error bars for 95% confidence interval\n",
    "    # Can increase capsize to add whiskers\n",
    "    coef_df.plot(x='variables', y='coef', kind='bar',\n",
    "                 ax=ax, color='none', fontsize=14, \n",
    "                 ecolor='steelblue',capsize=0,\n",
    "                 yerr='errors', legend=False)\n",
    "    \n",
    "    # Set title & labels\n",
    "    plt.title('Coefficients Post Covid',fontsize=10)\n",
    "    #ax.set_ylabel('Coefficients',fontsize=10)\n",
    "    ax.set_xlabel('',fontsize=12)\n",
    "    for tick in ax.get_xticklabels():\n",
    "        tick.set_rotation(0)\n",
    "    for tick in ax.get_yticklabels():\n",
    "        tick.set_rotation(90)\n",
    "    \n",
    "    plt.xticks(fontsize=8)\n",
    "    plt.yticks(fontsize=8)\n",
    "    #Coefficients\n",
    "    ax.scatter(x=pd.np.arange(coef_df.shape[0]), \n",
    "               marker='o', s=80, \n",
    "               y=coef_df['coef'], color='steelblue')\n",
    "    #[i.set_linewidth(1.0) for i in ax.spines.values()]\n",
    "    # Line to define zero on the y-axis\n",
    "    ax.axhline(y=0, linestyle='--', color='red', linewidth=1)\n",
    "    plt.savefig('postcoefficients.png', bbox_inches='tight')\n",
    "    return plt.show()"
   ]
  },
  {
   "cell_type": "code",
   "execution_count": 69,
   "id": "3bfebf54",
   "metadata": {},
   "outputs": [
    {
     "data": {
      "image/png": "[encoded data removed]",
      "text/plain": [
       "<Figure size 720x288 with 1 Axes>"
      ]
     },
     "metadata": {
      "needs_background": "light"
     },
     "output_type": "display_data"
    }
   ],
   "source": [
    "coefplot(result_pre)"
   ]
  },
  {
   "cell_type": "code",
   "execution_count": 70,
   "id": "408fd445",
   "metadata": {},
   "outputs": [
    {
     "data": {
      "image/png": "[encoded data removed]",
      "text/plain": [
       "<Figure size 720x288 with 1 Axes>"
      ]
     },
     "metadata": {
      "needs_background": "light"
     },
     "output_type": "display_data"
    }
   ],
   "source": [
    "coefplot(result_post)"
   ]
  },
  {
   "cell_type": "code",
   "execution_count": 71,
   "id": "beda4ecc",
   "metadata": {},
   "outputs": [
    {
     "data": {
      "image/png": "[encoded data removed]",
      "text/plain": [
       "<Figure size 720x288 with 1 Axes>"
      ]
     },
     "metadata": {
      "needs_background": "light"
     },
     "output_type": "display_data"
    }
   ],
   "source": [
    "coefplot(result_full)"
   ]
  },
  {
   "cell_type": "code",
   "execution_count": null,
   "id": "66a25b8e",
   "metadata": {},
   "outputs": [],
   "source": []
  }
 ],
 "metadata": {
  "kernelspec": {
   "display_name": "Python 3",
   "language": "python",
   "name": "python3"
  },
  "language_info": {
   "codemirror_mode": {
    "name": "ipython",
    "version": 3
   },
   "file_extension": ".py",
   "mimetype": "text/x-python",
   "name": "python",
   "nbconvert_exporter": "python",
   "pygments_lexer": "ipython3",
   "version": "3.8.8"
  }
 },
 "nbformat": 4,
 "nbformat_minor": 5
}
