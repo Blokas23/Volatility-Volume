{
 "cells": [
  {
   "cell_type": "markdown",
   "id": "8cf5cab8",
   "metadata": {},
   "source": [
    "# Volatility Pipeline\n",
    "\n",
    "## Realized\n",
    "\n",
    "Steps on an intraday level:\n",
    "\n",
    "1. Resample the data into the appropriate level of aggregation (e.g. 5min or 15min)\n",
    "2. Find the log returns intraday\n",
    "3. Square them\n",
    "4. Sum them up within each day individually\n",
    "5. Reorganise the dataframe back to daily level\n",
    "\n",
    "Steps on a daily level:\n",
    "\n",
    "1. Upsample to 1D\n",
    "2. Use mean as the statistical value to take as daily price\n",
    "3. fill nas\n",
    "\n",
    "Final steps:\n",
    "\n",
    "1. Merge"
   ]
  },
  {
   "cell_type": "code",
   "execution_count": 1,
   "id": "77acd969",
   "metadata": {},
   "outputs": [],
   "source": [
    "import pandas as pd\n",
    "import numpy as np\n",
    "import datetime as dt\n",
    "import warnings\n",
    "import math\n",
    "import matplotlib.pyplot as plt\n",
    "warnings.filterwarnings(\"ignore\")\n",
    "\n",
    "from IPython.core.interactiveshell import InteractiveShell\n",
    "InteractiveShell.ast_node_interactivity = \"all\""
   ]
  },
  {
   "cell_type": "code",
   "execution_count": 2,
   "id": "df86b04b",
   "metadata": {},
   "outputs": [],
   "source": [
    "unpickled_df_old = pd.read_pickle(\"Data/15sec.pkl\")\n",
    "unpickled_df_new = pd.read_pickle(\"Data/965814_20210801_20211012_index.pkl\")\n",
    "unpickled_df = pd.concat([unpickled_df_old,unpickled_df_new])\n",
    "daily_old = pd.read_csv(\"Data/sx5e_daily.csv\", sep = \";\")\n",
    "daily_new = pd.read_csv(\"Data/sx5e_daily_update.csv\", sep = \";\")\n",
    "daily = pd.concat([daily_old,daily_new[1022:]])\n",
    "daily = daily.drop(columns = [\"wkn\",\"it_highest_price\",\"it_lowest_price\"]).rename(columns={\"fact_date\": \"regional_timestamp\"})\n",
    "daily['regional_timestamp'] = pd.to_datetime(daily['regional_timestamp'],dayfirst=True)\n",
    "daily = daily.set_index('regional_timestamp')"
   ]
  },
  {
   "cell_type": "code",
   "execution_count": 3,
   "id": "942d441b",
   "metadata": {},
   "outputs": [],
   "source": [
    "def resample_timeperiod(df,time):\n",
    "    df = df.set_index('regional_timestamp').drop('wkn', axis=1).resample(rule = time, closed = 'right',  label = 'right').last()\n",
    "    return df"
   ]
  },
  {
   "cell_type": "code",
   "execution_count": 4,
   "id": "6755bf9b",
   "metadata": {},
   "outputs": [],
   "source": [
    "five_minutes = resample_timeperiod(unpickled_df,\"5T\")\n",
    "fifteen_minutes = resample_timeperiod(unpickled_df,\"15T\")"
   ]
  },
  {
   "cell_type": "code",
   "execution_count": 5,
   "id": "1380feff",
   "metadata": {},
   "outputs": [],
   "source": [
    "def INTRA(df):\n",
    "    df['intraday_volatility'] = (np.log(df.price) - np.log(df.price.shift(1)))**2\n",
    "    df.reset_index(level=0, inplace=True)\n",
    "    df = df.groupby(pd.Grouper(key='regional_timestamp',freq='1D')).sum()\n",
    "    df1 = df.drop(['price'], axis=1)\n",
    "    return df1"
   ]
  },
  {
   "cell_type": "code",
   "execution_count": 6,
   "id": "94d23ace",
   "metadata": {},
   "outputs": [],
   "source": [
    "def OVERNIGHT(df):\n",
    "    df['Overnight_volatility'] = (np.log(df.it_open_price) - np.log(df.it_close_price.shift(1)))**2\n",
    "    df1 = df.drop(columns =['it_open_price','it_close_price'])\n",
    "    return df1"
   ]
  },
  {
   "cell_type": "code",
   "execution_count": 7,
   "id": "8e48289c",
   "metadata": {},
   "outputs": [],
   "source": [
    "Intraday_vola = INTRA(five_minutes)\n",
    "Overnight_vola = OVERNIGHT(daily)"
   ]
  },
  {
   "cell_type": "code",
   "execution_count": 8,
   "id": "73fe85c9",
   "metadata": {},
   "outputs": [
    {
     "data": {
      "text/html": [
       "<div>\n",
       "<style scoped>\n",
       "    .dataframe tbody tr th:only-of-type {\n",
       "        vertical-align: middle;\n",
       "    }\n",
       "\n",
       "    .dataframe tbody tr th {\n",
       "        vertical-align: top;\n",
       "    }\n",
       "\n",
       "    .dataframe thead th {\n",
       "        text-align: right;\n",
       "    }\n",
       "</style>\n",
       "<table border=\"1\" class=\"dataframe\">\n",
       "  <thead>\n",
       "    <tr style=\"text-align: right;\">\n",
       "      <th></th>\n",
       "      <th>intraday_volatility</th>\n",
       "    </tr>\n",
       "    <tr>\n",
       "      <th>regional_timestamp</th>\n",
       "      <th></th>\n",
       "    </tr>\n",
       "  </thead>\n",
       "  <tbody>\n",
       "    <tr>\n",
       "      <th>2017-01-02</th>\n",
       "      <td>0.000025</td>\n",
       "    </tr>\n",
       "    <tr>\n",
       "      <th>2017-01-03</th>\n",
       "      <td>0.000026</td>\n",
       "    </tr>\n",
       "  </tbody>\n",
       "</table>\n",
       "</div>"
      ],
      "text/plain": [
       "                    intraday_volatility\n",
       "regional_timestamp                     \n",
       "2017-01-02                     0.000025\n",
       "2017-01-03                     0.000026"
      ]
     },
     "execution_count": 8,
     "metadata": {},
     "output_type": "execute_result"
    },
    {
     "data": {
      "text/html": [
       "<div>\n",
       "<style scoped>\n",
       "    .dataframe tbody tr th:only-of-type {\n",
       "        vertical-align: middle;\n",
       "    }\n",
       "\n",
       "    .dataframe tbody tr th {\n",
       "        vertical-align: top;\n",
       "    }\n",
       "\n",
       "    .dataframe thead th {\n",
       "        text-align: right;\n",
       "    }\n",
       "</style>\n",
       "<table border=\"1\" class=\"dataframe\">\n",
       "  <thead>\n",
       "    <tr style=\"text-align: right;\">\n",
       "      <th></th>\n",
       "      <th>Overnight_volatility</th>\n",
       "    </tr>\n",
       "    <tr>\n",
       "      <th>regional_timestamp</th>\n",
       "      <th></th>\n",
       "    </tr>\n",
       "  </thead>\n",
       "  <tbody>\n",
       "    <tr>\n",
       "      <th>2017-01-02</th>\n",
       "      <td>NaN</td>\n",
       "    </tr>\n",
       "    <tr>\n",
       "      <th>2017-01-03</th>\n",
       "      <td>0.000006</td>\n",
       "    </tr>\n",
       "  </tbody>\n",
       "</table>\n",
       "</div>"
      ],
      "text/plain": [
       "                    Overnight_volatility\n",
       "regional_timestamp                      \n",
       "2017-01-02                           NaN\n",
       "2017-01-03                      0.000006"
      ]
     },
     "execution_count": 8,
     "metadata": {},
     "output_type": "execute_result"
    },
    {
     "data": {
      "text/plain": [
       "DatetimeIndex(['2017-01-02', '2017-01-03', '2017-01-04', '2017-01-05',\n",
       "               '2017-01-06', '2017-01-07', '2017-01-08', '2017-01-09',\n",
       "               '2017-01-10', '2017-01-11',\n",
       "               ...\n",
       "               '2021-10-03', '2021-10-04', '2021-10-05', '2021-10-06',\n",
       "               '2021-10-07', '2021-10-08', '2021-10-09', '2021-10-10',\n",
       "               '2021-10-11', '2021-10-12'],\n",
       "              dtype='datetime64[ns]', name='regional_timestamp', length=1745, freq='D')"
      ]
     },
     "execution_count": 8,
     "metadata": {},
     "output_type": "execute_result"
    }
   ],
   "source": [
    "Intraday_vola.head(2)\n",
    "Overnight_vola.head(2)\n",
    "Intraday_vola.index"
   ]
  },
  {
   "cell_type": "code",
   "execution_count": 9,
   "id": "62c3225f",
   "metadata": {},
   "outputs": [],
   "source": [
    "Volatility = pd.concat([Intraday_vola, Overnight_vola], axis=1).dropna(axis='index')\n",
    "#Volatility = Volatility.drop('index', axis=1)\n",
    "Volatility['Volatility'] = Volatility[\"intraday_volatility\"] +  Volatility[\"Overnight_volatility\"]"
   ]
  },
  {
   "cell_type": "code",
   "execution_count": 10,
   "id": "ee98079c",
   "metadata": {
    "scrolled": true
   },
   "outputs": [
    {
     "data": {
      "text/html": [
       "<div>\n",
       "<style scoped>\n",
       "    .dataframe tbody tr th:only-of-type {\n",
       "        vertical-align: middle;\n",
       "    }\n",
       "\n",
       "    .dataframe tbody tr th {\n",
       "        vertical-align: top;\n",
       "    }\n",
       "\n",
       "    .dataframe thead th {\n",
       "        text-align: right;\n",
       "    }\n",
       "</style>\n",
       "<table border=\"1\" class=\"dataframe\">\n",
       "  <thead>\n",
       "    <tr style=\"text-align: right;\">\n",
       "      <th></th>\n",
       "      <th>intraday_volatility</th>\n",
       "      <th>Overnight_volatility</th>\n",
       "      <th>Volatility</th>\n",
       "    </tr>\n",
       "    <tr>\n",
       "      <th>regional_timestamp</th>\n",
       "      <th></th>\n",
       "      <th></th>\n",
       "      <th></th>\n",
       "    </tr>\n",
       "  </thead>\n",
       "  <tbody>\n",
       "    <tr>\n",
       "      <th>2017-01-03</th>\n",
       "      <td>0.000026</td>\n",
       "      <td>5.629988e-06</td>\n",
       "      <td>0.000031</td>\n",
       "    </tr>\n",
       "    <tr>\n",
       "      <th>2017-01-04</th>\n",
       "      <td>0.000015</td>\n",
       "      <td>2.817231e-07</td>\n",
       "      <td>0.000015</td>\n",
       "    </tr>\n",
       "    <tr>\n",
       "      <th>2017-01-05</th>\n",
       "      <td>0.000023</td>\n",
       "      <td>1.145655e-05</td>\n",
       "      <td>0.000035</td>\n",
       "    </tr>\n",
       "    <tr>\n",
       "      <th>2017-01-06</th>\n",
       "      <td>0.000032</td>\n",
       "      <td>2.387034e-06</td>\n",
       "      <td>0.000034</td>\n",
       "    </tr>\n",
       "    <tr>\n",
       "      <th>2017-01-09</th>\n",
       "      <td>0.000021</td>\n",
       "      <td>9.743988e-07</td>\n",
       "      <td>0.000022</td>\n",
       "    </tr>\n",
       "    <tr>\n",
       "      <th>2017-01-10</th>\n",
       "      <td>0.000020</td>\n",
       "      <td>2.515433e-07</td>\n",
       "      <td>0.000020</td>\n",
       "    </tr>\n",
       "    <tr>\n",
       "      <th>2017-01-11</th>\n",
       "      <td>0.000046</td>\n",
       "      <td>3.403445e-08</td>\n",
       "      <td>0.000046</td>\n",
       "    </tr>\n",
       "    <tr>\n",
       "      <th>2017-01-12</th>\n",
       "      <td>0.000036</td>\n",
       "      <td>6.160134e-06</td>\n",
       "      <td>0.000042</td>\n",
       "    </tr>\n",
       "    <tr>\n",
       "      <th>2017-01-13</th>\n",
       "      <td>0.000022</td>\n",
       "      <td>9.377146e-06</td>\n",
       "      <td>0.000031</td>\n",
       "    </tr>\n",
       "    <tr>\n",
       "      <th>2017-01-16</th>\n",
       "      <td>0.000021</td>\n",
       "      <td>1.054962e-05</td>\n",
       "      <td>0.000032</td>\n",
       "    </tr>\n",
       "  </tbody>\n",
       "</table>\n",
       "</div>"
      ],
      "text/plain": [
       "                    intraday_volatility  Overnight_volatility  Volatility\n",
       "regional_timestamp                                                       \n",
       "2017-01-03                     0.000026          5.629988e-06    0.000031\n",
       "2017-01-04                     0.000015          2.817231e-07    0.000015\n",
       "2017-01-05                     0.000023          1.145655e-05    0.000035\n",
       "2017-01-06                     0.000032          2.387034e-06    0.000034\n",
       "2017-01-09                     0.000021          9.743988e-07    0.000022\n",
       "2017-01-10                     0.000020          2.515433e-07    0.000020\n",
       "2017-01-11                     0.000046          3.403445e-08    0.000046\n",
       "2017-01-12                     0.000036          6.160134e-06    0.000042\n",
       "2017-01-13                     0.000022          9.377146e-06    0.000031\n",
       "2017-01-16                     0.000021          1.054962e-05    0.000032"
      ]
     },
     "execution_count": 10,
     "metadata": {},
     "output_type": "execute_result"
    }
   ],
   "source": [
    "Volatility.head(10)"
   ]
  },
  {
   "cell_type": "markdown",
   "id": "6c961f1e",
   "metadata": {},
   "source": [
    "## Implied\n",
    "\n",
    "Two proxies:\n",
    "1. VSTOXX\n",
    "2. Black Scholes inverted Put and Call vola. Final implied mean of two"
   ]
  },
  {
   "cell_type": "code",
   "execution_count": 11,
   "id": "ff1afbad",
   "metadata": {},
   "outputs": [],
   "source": [
    "VSTOXX = pd.read_csv('Data/VSTOXX_extended.csv',sep=';').rename(columns={\"Date\": \"regional_timestamp\",\"Indexvalue\":\"Preis\"}).drop(\"Symbol\",axis=1)\n",
    "Black_Scholes = pd.read_csv('Data/Implied_Black.csv')"
   ]
  },
  {
   "cell_type": "code",
   "execution_count": 12,
   "id": "a34e3851",
   "metadata": {},
   "outputs": [],
   "source": [
    "VSTOXX['regional_timestamp'] = pd.to_datetime(VSTOXX['regional_timestamp'],dayfirst=True)\n",
    "VSTOXX = VSTOXX.set_index('regional_timestamp')"
   ]
  },
  {
   "cell_type": "code",
   "execution_count": 13,
   "id": "460fad5b",
   "metadata": {},
   "outputs": [],
   "source": [
    "Black_Scholes = Black_Scholes[['Dates','HIST_CALL_IMP_VOL','HIST_PUT_IMP_VOL']].rename(columns={\"Dates\": \"Regional_timestamp\"})"
   ]
  },
  {
   "cell_type": "code",
   "execution_count": 14,
   "id": "f0c5d1e5",
   "metadata": {},
   "outputs": [],
   "source": [
    "Black_Scholes = Black_Scholes.set_index('Regional_timestamp')"
   ]
  },
  {
   "cell_type": "code",
   "execution_count": 15,
   "id": "a3b0cee2",
   "metadata": {},
   "outputs": [],
   "source": [
    "Black_Scholes['Implied_Volatility'] = (Black_Scholes['HIST_CALL_IMP_VOL']+Black_Scholes['HIST_PUT_IMP_VOL'])/2"
   ]
  },
  {
   "cell_type": "code",
   "execution_count": 16,
   "id": "6d546bb7",
   "metadata": {},
   "outputs": [
    {
     "data": {
      "text/html": [
       "<div>\n",
       "<style scoped>\n",
       "    .dataframe tbody tr th:only-of-type {\n",
       "        vertical-align: middle;\n",
       "    }\n",
       "\n",
       "    .dataframe tbody tr th {\n",
       "        vertical-align: top;\n",
       "    }\n",
       "\n",
       "    .dataframe thead th {\n",
       "        text-align: right;\n",
       "    }\n",
       "</style>\n",
       "<table border=\"1\" class=\"dataframe\">\n",
       "  <thead>\n",
       "    <tr style=\"text-align: right;\">\n",
       "      <th></th>\n",
       "      <th>HIST_CALL_IMP_VOL</th>\n",
       "      <th>HIST_PUT_IMP_VOL</th>\n",
       "      <th>Implied_Volatility</th>\n",
       "    </tr>\n",
       "    <tr>\n",
       "      <th>Regional_timestamp</th>\n",
       "      <th></th>\n",
       "      <th></th>\n",
       "      <th></th>\n",
       "    </tr>\n",
       "  </thead>\n",
       "  <tbody>\n",
       "    <tr>\n",
       "      <th>1/2/2017</th>\n",
       "      <td>16.77</td>\n",
       "      <td>16.77</td>\n",
       "      <td>16.77</td>\n",
       "    </tr>\n",
       "    <tr>\n",
       "      <th>1/3/2017</th>\n",
       "      <td>16.27</td>\n",
       "      <td>16.27</td>\n",
       "      <td>16.27</td>\n",
       "    </tr>\n",
       "    <tr>\n",
       "      <th>1/4/2017</th>\n",
       "      <td>15.54</td>\n",
       "      <td>15.54</td>\n",
       "      <td>15.54</td>\n",
       "    </tr>\n",
       "    <tr>\n",
       "      <th>1/5/2017</th>\n",
       "      <td>15.01</td>\n",
       "      <td>15.01</td>\n",
       "      <td>15.01</td>\n",
       "    </tr>\n",
       "    <tr>\n",
       "      <th>1/6/2017</th>\n",
       "      <td>14.33</td>\n",
       "      <td>14.33</td>\n",
       "      <td>14.33</td>\n",
       "    </tr>\n",
       "    <tr>\n",
       "      <th>1/9/2017</th>\n",
       "      <td>14.19</td>\n",
       "      <td>14.19</td>\n",
       "      <td>14.19</td>\n",
       "    </tr>\n",
       "    <tr>\n",
       "      <th>1/10/2017</th>\n",
       "      <td>13.91</td>\n",
       "      <td>13.91</td>\n",
       "      <td>13.91</td>\n",
       "    </tr>\n",
       "    <tr>\n",
       "      <th>1/11/2017</th>\n",
       "      <td>14.16</td>\n",
       "      <td>14.16</td>\n",
       "      <td>14.16</td>\n",
       "    </tr>\n",
       "    <tr>\n",
       "      <th>1/12/2017</th>\n",
       "      <td>14.72</td>\n",
       "      <td>14.72</td>\n",
       "      <td>14.72</td>\n",
       "    </tr>\n",
       "    <tr>\n",
       "      <th>1/13/2017</th>\n",
       "      <td>13.51</td>\n",
       "      <td>13.51</td>\n",
       "      <td>13.51</td>\n",
       "    </tr>\n",
       "  </tbody>\n",
       "</table>\n",
       "</div>"
      ],
      "text/plain": [
       "                    HIST_CALL_IMP_VOL  HIST_PUT_IMP_VOL  Implied_Volatility\n",
       "Regional_timestamp                                                         \n",
       "1/2/2017                        16.77             16.77               16.77\n",
       "1/3/2017                        16.27             16.27               16.27\n",
       "1/4/2017                        15.54             15.54               15.54\n",
       "1/5/2017                        15.01             15.01               15.01\n",
       "1/6/2017                        14.33             14.33               14.33\n",
       "1/9/2017                        14.19             14.19               14.19\n",
       "1/10/2017                       13.91             13.91               13.91\n",
       "1/11/2017                       14.16             14.16               14.16\n",
       "1/12/2017                       14.72             14.72               14.72\n",
       "1/13/2017                       13.51             13.51               13.51"
      ]
     },
     "execution_count": 16,
     "metadata": {},
     "output_type": "execute_result"
    }
   ],
   "source": [
    "Black_Scholes.head(10)"
   ]
  },
  {
   "cell_type": "code",
   "execution_count": 17,
   "id": "298b6850",
   "metadata": {},
   "outputs": [
    {
     "data": {
      "text/html": [
       "<div>\n",
       "<style scoped>\n",
       "    .dataframe tbody tr th:only-of-type {\n",
       "        vertical-align: middle;\n",
       "    }\n",
       "\n",
       "    .dataframe tbody tr th {\n",
       "        vertical-align: top;\n",
       "    }\n",
       "\n",
       "    .dataframe thead th {\n",
       "        text-align: right;\n",
       "    }\n",
       "</style>\n",
       "<table border=\"1\" class=\"dataframe\">\n",
       "  <thead>\n",
       "    <tr style=\"text-align: right;\">\n",
       "      <th></th>\n",
       "      <th>Preis</th>\n",
       "    </tr>\n",
       "    <tr>\n",
       "      <th>regional_timestamp</th>\n",
       "      <th></th>\n",
       "    </tr>\n",
       "  </thead>\n",
       "  <tbody>\n",
       "    <tr>\n",
       "      <th>2021-11-08</th>\n",
       "      <td>17.1981</td>\n",
       "    </tr>\n",
       "    <tr>\n",
       "      <th>2021-11-09</th>\n",
       "      <td>18.0620</td>\n",
       "    </tr>\n",
       "    <tr>\n",
       "      <th>2021-11-10</th>\n",
       "      <td>17.1761</td>\n",
       "    </tr>\n",
       "    <tr>\n",
       "      <th>2021-11-11</th>\n",
       "      <td>17.0902</td>\n",
       "    </tr>\n",
       "    <tr>\n",
       "      <th>2021-11-12</th>\n",
       "      <td>16.1449</td>\n",
       "    </tr>\n",
       "    <tr>\n",
       "      <th>2021-11-15</th>\n",
       "      <td>16.6495</td>\n",
       "    </tr>\n",
       "    <tr>\n",
       "      <th>2021-11-16</th>\n",
       "      <td>16.7973</td>\n",
       "    </tr>\n",
       "    <tr>\n",
       "      <th>2021-11-17</th>\n",
       "      <td>16.6822</td>\n",
       "    </tr>\n",
       "    <tr>\n",
       "      <th>2021-11-18</th>\n",
       "      <td>17.7692</td>\n",
       "    </tr>\n",
       "    <tr>\n",
       "      <th>2021-11-19</th>\n",
       "      <td>19.1166</td>\n",
       "    </tr>\n",
       "  </tbody>\n",
       "</table>\n",
       "</div>"
      ],
      "text/plain": [
       "                      Preis\n",
       "regional_timestamp         \n",
       "2021-11-08          17.1981\n",
       "2021-11-09          18.0620\n",
       "2021-11-10          17.1761\n",
       "2021-11-11          17.0902\n",
       "2021-11-12          16.1449\n",
       "2021-11-15          16.6495\n",
       "2021-11-16          16.7973\n",
       "2021-11-17          16.6822\n",
       "2021-11-18          17.7692\n",
       "2021-11-19          19.1166"
      ]
     },
     "execution_count": 17,
     "metadata": {},
     "output_type": "execute_result"
    }
   ],
   "source": [
    "VSTOXX.tail(10)"
   ]
  },
  {
   "cell_type": "code",
   "execution_count": 18,
   "id": "f2fff4a7",
   "metadata": {},
   "outputs": [
    {
     "data": {
      "text/html": [
       "<div>\n",
       "<style scoped>\n",
       "    .dataframe tbody tr th:only-of-type {\n",
       "        vertical-align: middle;\n",
       "    }\n",
       "\n",
       "    .dataframe tbody tr th {\n",
       "        vertical-align: top;\n",
       "    }\n",
       "\n",
       "    .dataframe thead th {\n",
       "        text-align: right;\n",
       "    }\n",
       "</style>\n",
       "<table border=\"1\" class=\"dataframe\">\n",
       "  <thead>\n",
       "    <tr style=\"text-align: right;\">\n",
       "      <th></th>\n",
       "      <th>intraday_volatility</th>\n",
       "      <th>Overnight_volatility</th>\n",
       "      <th>Volatility</th>\n",
       "    </tr>\n",
       "    <tr>\n",
       "      <th>regional_timestamp</th>\n",
       "      <th></th>\n",
       "      <th></th>\n",
       "      <th></th>\n",
       "    </tr>\n",
       "  </thead>\n",
       "  <tbody>\n",
       "    <tr>\n",
       "      <th>2017-01-03</th>\n",
       "      <td>0.000026</td>\n",
       "      <td>5.629988e-06</td>\n",
       "      <td>0.000031</td>\n",
       "    </tr>\n",
       "    <tr>\n",
       "      <th>2017-01-04</th>\n",
       "      <td>0.000015</td>\n",
       "      <td>2.817231e-07</td>\n",
       "      <td>0.000015</td>\n",
       "    </tr>\n",
       "    <tr>\n",
       "      <th>2017-01-05</th>\n",
       "      <td>0.000023</td>\n",
       "      <td>1.145655e-05</td>\n",
       "      <td>0.000035</td>\n",
       "    </tr>\n",
       "    <tr>\n",
       "      <th>2017-01-06</th>\n",
       "      <td>0.000032</td>\n",
       "      <td>2.387034e-06</td>\n",
       "      <td>0.000034</td>\n",
       "    </tr>\n",
       "    <tr>\n",
       "      <th>2017-01-09</th>\n",
       "      <td>0.000021</td>\n",
       "      <td>9.743988e-07</td>\n",
       "      <td>0.000022</td>\n",
       "    </tr>\n",
       "    <tr>\n",
       "      <th>...</th>\n",
       "      <td>...</td>\n",
       "      <td>...</td>\n",
       "      <td>...</td>\n",
       "    </tr>\n",
       "    <tr>\n",
       "      <th>2021-10-06</th>\n",
       "      <td>0.000135</td>\n",
       "      <td>1.514401e-05</td>\n",
       "      <td>0.000150</td>\n",
       "    </tr>\n",
       "    <tr>\n",
       "      <th>2021-10-07</th>\n",
       "      <td>0.000034</td>\n",
       "      <td>3.805488e-05</td>\n",
       "      <td>0.000072</td>\n",
       "    </tr>\n",
       "    <tr>\n",
       "      <th>2021-10-08</th>\n",
       "      <td>0.000048</td>\n",
       "      <td>8.864066e-08</td>\n",
       "      <td>0.000048</td>\n",
       "    </tr>\n",
       "    <tr>\n",
       "      <th>2021-10-11</th>\n",
       "      <td>0.000067</td>\n",
       "      <td>2.761628e-07</td>\n",
       "      <td>0.000068</td>\n",
       "    </tr>\n",
       "    <tr>\n",
       "      <th>2021-10-12</th>\n",
       "      <td>0.000054</td>\n",
       "      <td>1.182445e-05</td>\n",
       "      <td>0.000066</td>\n",
       "    </tr>\n",
       "  </tbody>\n",
       "</table>\n",
       "<p>1221 rows × 3 columns</p>\n",
       "</div>"
      ],
      "text/plain": [
       "                    intraday_volatility  Overnight_volatility  Volatility\n",
       "regional_timestamp                                                       \n",
       "2017-01-03                     0.000026          5.629988e-06    0.000031\n",
       "2017-01-04                     0.000015          2.817231e-07    0.000015\n",
       "2017-01-05                     0.000023          1.145655e-05    0.000035\n",
       "2017-01-06                     0.000032          2.387034e-06    0.000034\n",
       "2017-01-09                     0.000021          9.743988e-07    0.000022\n",
       "...                                 ...                   ...         ...\n",
       "2021-10-06                     0.000135          1.514401e-05    0.000150\n",
       "2021-10-07                     0.000034          3.805488e-05    0.000072\n",
       "2021-10-08                     0.000048          8.864066e-08    0.000048\n",
       "2021-10-11                     0.000067          2.761628e-07    0.000068\n",
       "2021-10-12                     0.000054          1.182445e-05    0.000066\n",
       "\n",
       "[1221 rows x 3 columns]"
      ]
     },
     "execution_count": 18,
     "metadata": {},
     "output_type": "execute_result"
    }
   ],
   "source": [
    "Volatility"
   ]
  },
  {
   "cell_type": "code",
   "execution_count": 19,
   "id": "53b7fba6",
   "metadata": {
    "scrolled": true
   },
   "outputs": [
    {
     "data": {
      "image/png": "[encoded data removed]",
      "text/plain": [
       "<Figure size 432x288 with 1 Axes>"
      ]
     },
     "metadata": {
      "needs_background": "light"
     },
     "output_type": "display_data"
    }
   ],
   "source": [
    "lines = Volatility.plot.line()"
   ]
  },
  {
   "cell_type": "code",
   "execution_count": 20,
   "id": "9ae3fbed",
   "metadata": {},
   "outputs": [
    {
     "data": {
      "image/png": "[encoded data removed]",
      "text/plain": [
       "<Figure size 432x288 with 1 Axes>"
      ]
     },
     "metadata": {
      "needs_background": "light"
     },
     "output_type": "display_data"
    }
   ],
   "source": [
    "lines2 = Volatility.intraday_volatility.plot.line()"
   ]
  },
  {
   "cell_type": "code",
   "execution_count": 21,
   "id": "66a2e2c0",
   "metadata": {},
   "outputs": [
    {
     "data": {
      "image/png": "[encoded data removed]",
      "text/plain": [
       "<Figure size 432x288 with 1 Axes>"
      ]
     },
     "metadata": {
      "needs_background": "light"
     },
     "output_type": "display_data"
    }
   ],
   "source": [
    "lines2 = Volatility.Overnight_volatility.plot.line()"
   ]
  },
  {
   "cell_type": "code",
   "execution_count": 22,
   "id": "3c799ca3",
   "metadata": {
    "scrolled": true
   },
   "outputs": [
    {
     "data": {
      "image/png": "[encoded data removed]",
      "text/plain": [
       "<Figure size 432x288 with 1 Axes>"
      ]
     },
     "metadata": {
      "needs_background": "light"
     },
     "output_type": "display_data"
    }
   ],
   "source": [
    "impl = VSTOXX[3500:].plot.line()"
   ]
  },
  {
   "cell_type": "markdown",
   "id": "3404ef4d",
   "metadata": {},
   "source": [
    "ADF test shows we are stationarry"
   ]
  },
  {
   "cell_type": "code",
   "execution_count": 23,
   "id": "615677a0",
   "metadata": {},
   "outputs": [
    {
     "name": "stdout",
     "output_type": "stream",
     "text": [
      "ADF Statistic: -5.896918\n",
      "p-value: 0.000000\n",
      "Critical Values:\n",
      "\t1%: -3.436\n",
      "\t5%: -2.864\n",
      "\t10%: -2.568\n"
     ]
    }
   ],
   "source": [
    "from statsmodels.tsa.stattools import adfuller\n",
    "X = Volatility[\"Volatility\"]\n",
    "result = adfuller(X)\n",
    "print('ADF Statistic: %f' % result[0])\n",
    "print('p-value: %f' % result[1])\n",
    "print('Critical Values:')\n",
    "for key, value in result[4].items():\n",
    "\tprint('\\t%s: %.3f' % (key, value))"
   ]
  },
  {
   "cell_type": "markdown",
   "id": "db3cc08e",
   "metadata": {},
   "source": [
    "## Combining Implied and Realized and calculating difference"
   ]
  },
  {
   "cell_type": "code",
   "execution_count": 24,
   "id": "c3813b9e",
   "metadata": {},
   "outputs": [],
   "source": [
    "VSTOXX1 = VSTOXX.loc['2017-01-03':'2021-10-12'] # Cutting into sample size"
   ]
  },
  {
   "cell_type": "code",
   "execution_count": 25,
   "id": "5451bf16",
   "metadata": {},
   "outputs": [
    {
     "name": "stdout",
     "output_type": "stream",
     "text": [
      "Vstoxx shape : (1215, 1)\n",
      "Volatility shape : (1221, 3)\n"
     ]
    }
   ],
   "source": [
    "print(\"Vstoxx shape : \" + str(VSTOXX1.shape))\n",
    "print(\"Volatility shape : \" + str(Volatility.shape))"
   ]
  },
  {
   "cell_type": "markdown",
   "id": "7e2b8fb2",
   "metadata": {},
   "source": [
    "We see there are just a few rows more in Volatility than VSTOXX. Probably some holidays , let's check"
   ]
  },
  {
   "cell_type": "code",
   "execution_count": 26,
   "id": "f4d9f333",
   "metadata": {
    "scrolled": true
   },
   "outputs": [
    {
     "data": {
      "text/html": [
       "<div>\n",
       "<style scoped>\n",
       "    .dataframe tbody tr th:only-of-type {\n",
       "        vertical-align: middle;\n",
       "    }\n",
       "\n",
       "    .dataframe tbody tr th {\n",
       "        vertical-align: top;\n",
       "    }\n",
       "\n",
       "    .dataframe thead th {\n",
       "        text-align: right;\n",
       "    }\n",
       "</style>\n",
       "<table border=\"1\" class=\"dataframe\">\n",
       "  <thead>\n",
       "    <tr style=\"text-align: right;\">\n",
       "      <th></th>\n",
       "      <th>intraday_volatility</th>\n",
       "      <th>Overnight_volatility</th>\n",
       "      <th>Volatility</th>\n",
       "    </tr>\n",
       "    <tr>\n",
       "      <th>regional_timestamp</th>\n",
       "      <th></th>\n",
       "      <th></th>\n",
       "      <th></th>\n",
       "    </tr>\n",
       "  </thead>\n",
       "  <tbody>\n",
       "    <tr>\n",
       "      <th>2018-12-24</th>\n",
       "      <td>0.000007</td>\n",
       "      <td>5.707478e-06</td>\n",
       "      <td>0.000013</td>\n",
       "    </tr>\n",
       "    <tr>\n",
       "      <th>2018-12-31</th>\n",
       "      <td>0.000004</td>\n",
       "      <td>2.654706e-06</td>\n",
       "      <td>0.000007</td>\n",
       "    </tr>\n",
       "    <tr>\n",
       "      <th>2019-12-24</th>\n",
       "      <td>0.000001</td>\n",
       "      <td>4.490723e-07</td>\n",
       "      <td>0.000002</td>\n",
       "    </tr>\n",
       "    <tr>\n",
       "      <th>2019-12-31</th>\n",
       "      <td>0.000002</td>\n",
       "      <td>2.463391e-07</td>\n",
       "      <td>0.000002</td>\n",
       "    </tr>\n",
       "    <tr>\n",
       "      <th>2020-12-24</th>\n",
       "      <td>0.000004</td>\n",
       "      <td>1.027836e-06</td>\n",
       "      <td>0.000005</td>\n",
       "    </tr>\n",
       "    <tr>\n",
       "      <th>2020-12-31</th>\n",
       "      <td>0.000010</td>\n",
       "      <td>2.714857e-06</td>\n",
       "      <td>0.000012</td>\n",
       "    </tr>\n",
       "  </tbody>\n",
       "</table>\n",
       "</div>"
      ],
      "text/plain": [
       "                    intraday_volatility  Overnight_volatility  Volatility\n",
       "regional_timestamp                                                       \n",
       "2018-12-24                     0.000007          5.707478e-06    0.000013\n",
       "2018-12-31                     0.000004          2.654706e-06    0.000007\n",
       "2019-12-24                     0.000001          4.490723e-07    0.000002\n",
       "2019-12-31                     0.000002          2.463391e-07    0.000002\n",
       "2020-12-24                     0.000004          1.027836e-06    0.000005\n",
       "2020-12-31                     0.000010          2.714857e-06    0.000012"
      ]
     },
     "execution_count": 26,
     "metadata": {},
     "output_type": "execute_result"
    }
   ],
   "source": [
    "Volatility[~Volatility.index.isin(VSTOXX1.index)]"
   ]
  },
  {
   "cell_type": "markdown",
   "id": "3f87ed13",
   "metadata": {},
   "source": [
    "We see these are the pre christmas and newyear days. Will just drop them from Volatility and concat the remaining part of the DF"
   ]
  },
  {
   "cell_type": "code",
   "execution_count": 27,
   "id": "938a6478",
   "metadata": {},
   "outputs": [],
   "source": [
    "Volatility1 = Volatility.drop(Volatility.index[~Volatility.index.isin(VSTOXX1.index)])"
   ]
  },
  {
   "cell_type": "code",
   "execution_count": 28,
   "id": "6b6e66c2",
   "metadata": {},
   "outputs": [
    {
     "name": "stdout",
     "output_type": "stream",
     "text": [
      "Vstoxx shape : (1215, 1)\n",
      "Volatility shape : (1215, 3)\n"
     ]
    }
   ],
   "source": [
    "print(\"Vstoxx shape : \" + str(VSTOXX1.shape))\n",
    "print(\"Volatility shape : \" + str(Volatility1.shape))"
   ]
  },
  {
   "cell_type": "code",
   "execution_count": 29,
   "id": "b04d5425",
   "metadata": {},
   "outputs": [
    {
     "data": {
      "text/html": [
       "<div>\n",
       "<style scoped>\n",
       "    .dataframe tbody tr th:only-of-type {\n",
       "        vertical-align: middle;\n",
       "    }\n",
       "\n",
       "    .dataframe tbody tr th {\n",
       "        vertical-align: top;\n",
       "    }\n",
       "\n",
       "    .dataframe thead th {\n",
       "        text-align: right;\n",
       "    }\n",
       "</style>\n",
       "<table border=\"1\" class=\"dataframe\">\n",
       "  <thead>\n",
       "    <tr style=\"text-align: right;\">\n",
       "      <th></th>\n",
       "      <th>intraday_volatility</th>\n",
       "      <th>Overnight_volatility</th>\n",
       "      <th>Volatility</th>\n",
       "    </tr>\n",
       "    <tr>\n",
       "      <th>regional_timestamp</th>\n",
       "      <th></th>\n",
       "      <th></th>\n",
       "      <th></th>\n",
       "    </tr>\n",
       "  </thead>\n",
       "  <tbody>\n",
       "    <tr>\n",
       "      <th>2017-01-03</th>\n",
       "      <td>0.000026</td>\n",
       "      <td>0.000006</td>\n",
       "      <td>0.000031</td>\n",
       "    </tr>\n",
       "  </tbody>\n",
       "</table>\n",
       "</div>"
      ],
      "text/plain": [
       "                    intraday_volatility  Overnight_volatility  Volatility\n",
       "regional_timestamp                                                       \n",
       "2017-01-03                     0.000026              0.000006    0.000031"
      ]
     },
     "execution_count": 29,
     "metadata": {},
     "output_type": "execute_result"
    }
   ],
   "source": [
    "Volatility1.head(1)"
   ]
  },
  {
   "cell_type": "markdown",
   "id": "8fb9d6f5",
   "metadata": {},
   "source": [
    "Normalizing the VSTOXX which is anualized to a yearly level."
   ]
  },
  {
   "cell_type": "code",
   "execution_count": 30,
   "id": "3716acdb",
   "metadata": {
    "scrolled": false
   },
   "outputs": [],
   "source": [
    "VSTOXX1[\"Preis_Norm\"] = VSTOXX1[\"Preis\"] #/ np.sqrt(252) # Change with / np.sqrt()\n",
    "VSTOXX1 = VSTOXX1.drop(columns = \"Preis\")"
   ]
  },
  {
   "cell_type": "code",
   "execution_count": 31,
   "id": "3b8bf7ca",
   "metadata": {},
   "outputs": [],
   "source": [
    "Volatility_combined = pd.concat([Volatility1, VSTOXX1], axis=1).dropna(axis='index')"
   ]
  },
  {
   "cell_type": "markdown",
   "id": "d3e1fe1e",
   "metadata": {},
   "source": [
    "Taking care of the scale: \n",
    "\n",
    "1. Volatility is the square root of variance\n",
    "2. The index is given as a % so we must divide by 100"
   ]
  },
  {
   "cell_type": "code",
   "execution_count": 32,
   "id": "60e352ec",
   "metadata": {},
   "outputs": [
    {
     "data": {
      "text/html": [
       "<div>\n",
       "<style scoped>\n",
       "    .dataframe tbody tr th:only-of-type {\n",
       "        vertical-align: middle;\n",
       "    }\n",
       "\n",
       "    .dataframe tbody tr th {\n",
       "        vertical-align: top;\n",
       "    }\n",
       "\n",
       "    .dataframe thead th {\n",
       "        text-align: right;\n",
       "    }\n",
       "</style>\n",
       "<table border=\"1\" class=\"dataframe\">\n",
       "  <thead>\n",
       "    <tr style=\"text-align: right;\">\n",
       "      <th></th>\n",
       "      <th>intraday_volatility</th>\n",
       "      <th>Overnight_volatility</th>\n",
       "      <th>Volatility</th>\n",
       "      <th>Preis_Norm</th>\n",
       "    </tr>\n",
       "    <tr>\n",
       "      <th>regional_timestamp</th>\n",
       "      <th></th>\n",
       "      <th></th>\n",
       "      <th></th>\n",
       "      <th></th>\n",
       "    </tr>\n",
       "  </thead>\n",
       "  <tbody>\n",
       "    <tr>\n",
       "      <th>2017-01-03</th>\n",
       "      <td>0.000026</td>\n",
       "      <td>0.000006</td>\n",
       "      <td>0.000031</td>\n",
       "      <td>17.3519</td>\n",
       "    </tr>\n",
       "  </tbody>\n",
       "</table>\n",
       "</div>"
      ],
      "text/plain": [
       "                    intraday_volatility  Overnight_volatility  Volatility  \\\n",
       "regional_timestamp                                                          \n",
       "2017-01-03                     0.000026              0.000006    0.000031   \n",
       "\n",
       "                    Preis_Norm  \n",
       "regional_timestamp              \n",
       "2017-01-03             17.3519  "
      ]
     },
     "execution_count": 32,
     "metadata": {},
     "output_type": "execute_result"
    }
   ],
   "source": [
    "Volatility_combined.head(1)"
   ]
  },
  {
   "cell_type": "code",
   "execution_count": 33,
   "id": "741eb394",
   "metadata": {},
   "outputs": [],
   "source": [
    "Volatility_combined['Volatility'] = Volatility_combined['Volatility'].transform(lambda x : math.sqrt(x)*math.sqrt(252))\n",
    "Volatility_combined['Preis_Norm'] = Volatility_combined['Preis_Norm'].transform(lambda x : x/100)"
   ]
  },
  {
   "cell_type": "code",
   "execution_count": 34,
   "id": "56ddcad9",
   "metadata": {},
   "outputs": [],
   "source": [
    "Volatility_combined= Volatility_combined.drop(columns = ['intraday_volatility','Overnight_volatility'])\n",
    "Volatility_combined = Volatility_combined.rename(columns = {\"Volatility\":\"realized_volatility\",\"Preis_Norm\":\"implied_volatility\"})"
   ]
  },
  {
   "cell_type": "markdown",
   "id": "57eaed4a",
   "metadata": {},
   "source": [
    "We still have a order of x5 problem in scaling. The difference will not be significant, this is why we standardize the final results"
   ]
  },
  {
   "cell_type": "code",
   "execution_count": 35,
   "id": "f4e487e9",
   "metadata": {
    "scrolled": false
   },
   "outputs": [
    {
     "data": {
      "image/png": "[encoded data removed]",
      "text/plain": [
       "<Figure size 432x288 with 1 Axes>"
      ]
     },
     "metadata": {
      "needs_background": "light"
     },
     "output_type": "display_data"
    }
   ],
   "source": [
    "lines = Volatility_combined.plot.line()"
   ]
  },
  {
   "cell_type": "markdown",
   "id": "5038dd0d",
   "metadata": {},
   "source": [
    "Bingo ! Same scale and we see where we would expect realized > implied. 2018 IR hikes, 2020 covid , second wave as well"
   ]
  },
  {
   "cell_type": "code",
   "execution_count": 36,
   "id": "baf5d545",
   "metadata": {
    "scrolled": true
   },
   "outputs": [
    {
     "name": "stdout",
     "output_type": "stream",
     "text": [
      "ADF Statistic realized, implied: -5.005836, -3.99599\n",
      "p-value: 0.000022\n",
      "Critical Values:\n",
      "\t1%: -3.436\n",
      "\t5%: -2.864\n",
      "\t10%: -2.568\n"
     ]
    }
   ],
   "source": [
    "from statsmodels.tsa.stattools import adfuller\n",
    "X = Volatility_combined[\"realized_volatility\"]\n",
    "Y = Volatility_combined[\"implied_volatility\"]\n",
    "result = adfuller(X)\n",
    "result1 = adfuller(Y)\n",
    "print('ADF Statistic realized, implied: %f, %g' % (result[0],result1[0]))\n",
    "print('p-value: %f' % result[1])\n",
    "print('Critical Values:')\n",
    "for key, value in result[4].items():\n",
    "\tprint('\\t%s: %.3f' % (key, value))"
   ]
  },
  {
   "cell_type": "code",
   "execution_count": 37,
   "id": "fe5f4551",
   "metadata": {},
   "outputs": [
    {
     "data": {
      "text/html": [
       "<div>\n",
       "<style scoped>\n",
       "    .dataframe tbody tr th:only-of-type {\n",
       "        vertical-align: middle;\n",
       "    }\n",
       "\n",
       "    .dataframe tbody tr th {\n",
       "        vertical-align: top;\n",
       "    }\n",
       "\n",
       "    .dataframe thead th {\n",
       "        text-align: right;\n",
       "    }\n",
       "</style>\n",
       "<table border=\"1\" class=\"dataframe\">\n",
       "  <thead>\n",
       "    <tr style=\"text-align: right;\">\n",
       "      <th></th>\n",
       "      <th>realized_volatility</th>\n",
       "      <th>implied_volatility</th>\n",
       "    </tr>\n",
       "    <tr>\n",
       "      <th>regional_timestamp</th>\n",
       "      <th></th>\n",
       "      <th></th>\n",
       "    </tr>\n",
       "  </thead>\n",
       "  <tbody>\n",
       "    <tr>\n",
       "      <th>2017-01-03</th>\n",
       "      <td>0.089028</td>\n",
       "      <td>0.173519</td>\n",
       "    </tr>\n",
       "    <tr>\n",
       "      <th>2017-01-04</th>\n",
       "      <td>0.061330</td>\n",
       "      <td>0.164641</td>\n",
       "    </tr>\n",
       "    <tr>\n",
       "      <th>2017-01-05</th>\n",
       "      <td>0.093856</td>\n",
       "      <td>0.159801</td>\n",
       "    </tr>\n",
       "    <tr>\n",
       "      <th>2017-01-06</th>\n",
       "      <td>0.092509</td>\n",
       "      <td>0.153421</td>\n",
       "    </tr>\n",
       "    <tr>\n",
       "      <th>2017-01-09</th>\n",
       "      <td>0.074459</td>\n",
       "      <td>0.155143</td>\n",
       "    </tr>\n",
       "    <tr>\n",
       "      <th>2017-01-10</th>\n",
       "      <td>0.070969</td>\n",
       "      <td>0.153547</td>\n",
       "    </tr>\n",
       "    <tr>\n",
       "      <th>2017-01-11</th>\n",
       "      <td>0.107536</td>\n",
       "      <td>0.157011</td>\n",
       "    </tr>\n",
       "    <tr>\n",
       "      <th>2017-01-12</th>\n",
       "      <td>0.103465</td>\n",
       "      <td>0.162935</td>\n",
       "    </tr>\n",
       "    <tr>\n",
       "      <th>2017-01-13</th>\n",
       "      <td>0.089040</td>\n",
       "      <td>0.148618</td>\n",
       "    </tr>\n",
       "    <tr>\n",
       "      <th>2017-01-16</th>\n",
       "      <td>0.089848</td>\n",
       "      <td>0.154655</td>\n",
       "    </tr>\n",
       "  </tbody>\n",
       "</table>\n",
       "</div>"
      ],
      "text/plain": [
       "                    realized_volatility  implied_volatility\n",
       "regional_timestamp                                         \n",
       "2017-01-03                     0.089028            0.173519\n",
       "2017-01-04                     0.061330            0.164641\n",
       "2017-01-05                     0.093856            0.159801\n",
       "2017-01-06                     0.092509            0.153421\n",
       "2017-01-09                     0.074459            0.155143\n",
       "2017-01-10                     0.070969            0.153547\n",
       "2017-01-11                     0.107536            0.157011\n",
       "2017-01-12                     0.103465            0.162935\n",
       "2017-01-13                     0.089040            0.148618\n",
       "2017-01-16                     0.089848            0.154655"
      ]
     },
     "execution_count": 37,
     "metadata": {},
     "output_type": "execute_result"
    }
   ],
   "source": [
    "Volatility_combined.head(10)"
   ]
  },
  {
   "cell_type": "code",
   "execution_count": 38,
   "id": "4527d3cf",
   "metadata": {},
   "outputs": [],
   "source": [
    "Volatility_combined['difference_lagged'] = Volatility_combined['implied_volatility'].shift(21) - Volatility_combined['realized_volatility']\n",
    "Volatility_combined['difference'] = Volatility_combined['implied_volatility'] - Volatility_combined['realized_volatility']\n",
    "#Volatility_combined['implied_volatility'] = Volatility_combined['implied_volatility'].shift(21)"
   ]
  },
  {
   "cell_type": "code",
   "execution_count": 39,
   "id": "4cd3c187",
   "metadata": {},
   "outputs": [
    {
     "data": {
      "text/plain": [
       "<AxesSubplot:xlabel='regional_timestamp'>"
      ]
     },
     "execution_count": 39,
     "metadata": {},
     "output_type": "execute_result"
    },
    {
     "data": {
      "image/png": "[encoded data removed]",
      "text/plain": [
       "<Figure size 432x288 with 1 Axes>"
      ]
     },
     "metadata": {
      "needs_background": "light"
     },
     "output_type": "display_data"
    }
   ],
   "source": [
    "Volatility_combined['difference_lagged'].plot.line()"
   ]
  },
  {
   "cell_type": "code",
   "execution_count": 40,
   "id": "9f581df1",
   "metadata": {
    "scrolled": true
   },
   "outputs": [
    {
     "data": {
      "text/plain": [
       "<AxesSubplot:xlabel='regional_timestamp'>"
      ]
     },
     "execution_count": 40,
     "metadata": {},
     "output_type": "execute_result"
    },
    {
     "data": {
      "image/png": "[encoded data removed]",
      "text/plain": [
       "<Figure size 432x288 with 1 Axes>"
      ]
     },
     "metadata": {
      "needs_background": "light"
     },
     "output_type": "display_data"
    }
   ],
   "source": [
    "Volatility_combined['difference'].plot.line()"
   ]
  },
  {
   "cell_type": "code",
   "execution_count": 41,
   "id": "0e3771cf",
   "metadata": {},
   "outputs": [
    {
     "name": "stdout",
     "output_type": "stream",
     "text": [
      "ADF Statistic realized, implied: -4.316941\n",
      "p-value: 0.000415\n",
      "Critical Values:\n",
      "\t1%: -3.436\n",
      "\t5%: -2.864\n",
      "\t10%: -2.568\n"
     ]
    }
   ],
   "source": [
    "from statsmodels.tsa.stattools import adfuller\n",
    "X = Volatility_combined['difference'][31:]\n",
    "result = adfuller(X)\n",
    "print('ADF Statistic realized, implied: %f' % (result[0]))\n",
    "print('p-value: %f' % result[1])\n",
    "print('Critical Values:')\n",
    "for key, value in result[4].items():\n",
    "\tprint('\\t%s: %.3f' % (key, value))"
   ]
  },
  {
   "cell_type": "code",
   "execution_count": 42,
   "id": "ceb0c61f",
   "metadata": {},
   "outputs": [
    {
     "data": {
      "text/html": [
       "<div>\n",
       "<style scoped>\n",
       "    .dataframe tbody tr th:only-of-type {\n",
       "        vertical-align: middle;\n",
       "    }\n",
       "\n",
       "    .dataframe tbody tr th {\n",
       "        vertical-align: top;\n",
       "    }\n",
       "\n",
       "    .dataframe thead th {\n",
       "        text-align: right;\n",
       "    }\n",
       "</style>\n",
       "<table border=\"1\" class=\"dataframe\">\n",
       "  <thead>\n",
       "    <tr style=\"text-align: right;\">\n",
       "      <th></th>\n",
       "      <th>realized_volatility</th>\n",
       "      <th>implied_volatility</th>\n",
       "      <th>difference_lagged</th>\n",
       "      <th>difference</th>\n",
       "    </tr>\n",
       "    <tr>\n",
       "      <th>regional_timestamp</th>\n",
       "      <th></th>\n",
       "      <th></th>\n",
       "      <th></th>\n",
       "      <th></th>\n",
       "    </tr>\n",
       "  </thead>\n",
       "  <tbody>\n",
       "    <tr>\n",
       "      <th>2017-01-03</th>\n",
       "      <td>0.089028</td>\n",
       "      <td>0.173519</td>\n",
       "      <td>NaN</td>\n",
       "      <td>0.084491</td>\n",
       "    </tr>\n",
       "    <tr>\n",
       "      <th>2017-01-04</th>\n",
       "      <td>0.061330</td>\n",
       "      <td>0.164641</td>\n",
       "      <td>NaN</td>\n",
       "      <td>0.103311</td>\n",
       "    </tr>\n",
       "    <tr>\n",
       "      <th>2017-01-05</th>\n",
       "      <td>0.093856</td>\n",
       "      <td>0.159801</td>\n",
       "      <td>NaN</td>\n",
       "      <td>0.065945</td>\n",
       "    </tr>\n",
       "    <tr>\n",
       "      <th>2017-01-06</th>\n",
       "      <td>0.092509</td>\n",
       "      <td>0.153421</td>\n",
       "      <td>NaN</td>\n",
       "      <td>0.060912</td>\n",
       "    </tr>\n",
       "    <tr>\n",
       "      <th>2017-01-09</th>\n",
       "      <td>0.074459</td>\n",
       "      <td>0.155143</td>\n",
       "      <td>NaN</td>\n",
       "      <td>0.080684</td>\n",
       "    </tr>\n",
       "  </tbody>\n",
       "</table>\n",
       "</div>"
      ],
      "text/plain": [
       "                    realized_volatility  implied_volatility  \\\n",
       "regional_timestamp                                            \n",
       "2017-01-03                     0.089028            0.173519   \n",
       "2017-01-04                     0.061330            0.164641   \n",
       "2017-01-05                     0.093856            0.159801   \n",
       "2017-01-06                     0.092509            0.153421   \n",
       "2017-01-09                     0.074459            0.155143   \n",
       "\n",
       "                    difference_lagged  difference  \n",
       "regional_timestamp                                 \n",
       "2017-01-03                        NaN    0.084491  \n",
       "2017-01-04                        NaN    0.103311  \n",
       "2017-01-05                        NaN    0.065945  \n",
       "2017-01-06                        NaN    0.060912  \n",
       "2017-01-09                        NaN    0.080684  "
      ]
     },
     "execution_count": 42,
     "metadata": {},
     "output_type": "execute_result"
    }
   ],
   "source": [
    "Volatility_combined.head(5)"
   ]
  },
  {
   "cell_type": "markdown",
   "id": "bdef5d0f",
   "metadata": {},
   "source": [
    "## Benchmark\n",
    "\n",
    "We need a benchmark realized volatility to compare results with our calculations"
   ]
  },
  {
   "cell_type": "code",
   "execution_count": 43,
   "id": "00c07db0",
   "metadata": {},
   "outputs": [],
   "source": [
    "Benchmark = pd.read_csv(\"Data/HistoricVola_ESX50.csv\")\n",
    "Benchmark['regional_timestamp'] = pd.to_datetime(Benchmark['regional_timestamp'])\n",
    "Benchmark = Benchmark.rename(columns={'VOLATILITY_30D':\"realized_volatility\"})\n",
    "Benchmark = Benchmark.set_index('regional_timestamp')\n",
    "Benchmark = pd.concat([Benchmark, VSTOXX1], axis=1)\n",
    "Benchmark['Preis_Norm'] = Benchmark['Preis_Norm'].transform(lambda x : x/100)\n",
    "Benchmark['realized_volatility'] = Benchmark['realized_volatility']#.transform(lambda x : x/100)\n",
    "Benchmark = Benchmark.rename(columns = {\"Preis_Norm\":\"implied_volatility\"})\n",
    "Benchmark['realized_volatility'] = Benchmark['realized_volatility'] / np.sqrt(252)"
   ]
  },
  {
   "cell_type": "code",
   "execution_count": 44,
   "id": "b2b747db",
   "metadata": {
    "scrolled": true
   },
   "outputs": [
    {
     "data": {
      "text/html": [
       "<div>\n",
       "<style scoped>\n",
       "    .dataframe tbody tr th:only-of-type {\n",
       "        vertical-align: middle;\n",
       "    }\n",
       "\n",
       "    .dataframe tbody tr th {\n",
       "        vertical-align: top;\n",
       "    }\n",
       "\n",
       "    .dataframe thead th {\n",
       "        text-align: right;\n",
       "    }\n",
       "</style>\n",
       "<table border=\"1\" class=\"dataframe\">\n",
       "  <thead>\n",
       "    <tr style=\"text-align: right;\">\n",
       "      <th></th>\n",
       "      <th>realized_volatility</th>\n",
       "      <th>implied_volatility</th>\n",
       "    </tr>\n",
       "    <tr>\n",
       "      <th>regional_timestamp</th>\n",
       "      <th></th>\n",
       "      <th></th>\n",
       "    </tr>\n",
       "  </thead>\n",
       "  <tbody>\n",
       "    <tr>\n",
       "      <th>2017-01-03</th>\n",
       "      <td>0.686635</td>\n",
       "      <td>0.173519</td>\n",
       "    </tr>\n",
       "    <tr>\n",
       "      <th>2017-01-04</th>\n",
       "      <td>0.674667</td>\n",
       "      <td>0.164641</td>\n",
       "    </tr>\n",
       "    <tr>\n",
       "      <th>2017-01-05</th>\n",
       "      <td>0.677186</td>\n",
       "      <td>0.159801</td>\n",
       "    </tr>\n",
       "    <tr>\n",
       "      <th>2017-01-06</th>\n",
       "      <td>0.677816</td>\n",
       "      <td>0.153421</td>\n",
       "    </tr>\n",
       "    <tr>\n",
       "      <th>2017-01-09</th>\n",
       "      <td>0.640020</td>\n",
       "      <td>0.155143</td>\n",
       "    </tr>\n",
       "  </tbody>\n",
       "</table>\n",
       "</div>"
      ],
      "text/plain": [
       "                    realized_volatility  implied_volatility\n",
       "regional_timestamp                                         \n",
       "2017-01-03                     0.686635            0.173519\n",
       "2017-01-04                     0.674667            0.164641\n",
       "2017-01-05                     0.677186            0.159801\n",
       "2017-01-06                     0.677816            0.153421\n",
       "2017-01-09                     0.640020            0.155143"
      ]
     },
     "execution_count": 44,
     "metadata": {},
     "output_type": "execute_result"
    }
   ],
   "source": [
    "Benchmark.head()"
   ]
  },
  {
   "cell_type": "code",
   "execution_count": 45,
   "id": "51df844c",
   "metadata": {},
   "outputs": [],
   "source": [
    "Benchmark['difference_lagged'] = Benchmark['implied_volatility'].shift(21) - Benchmark['realized_volatility']\n",
    "Benchmark['difference'] = Benchmark['implied_volatility'] - Benchmark['realized_volatility']"
   ]
  },
  {
   "cell_type": "code",
   "execution_count": 46,
   "id": "24130666",
   "metadata": {},
   "outputs": [
    {
     "data": {
      "text/plain": [
       "<AxesSubplot:xlabel='regional_timestamp'>"
      ]
     },
     "execution_count": 46,
     "metadata": {},
     "output_type": "execute_result"
    },
    {
     "data": {
      "image/png": "[encoded data removed]",
      "text/plain": [
       "<Figure size 432x288 with 1 Axes>"
      ]
     },
     "metadata": {
      "needs_background": "light"
     },
     "output_type": "display_data"
    }
   ],
   "source": [
    "Benchmark.plot.line()"
   ]
  },
  {
   "cell_type": "code",
   "execution_count": 47,
   "id": "62df7bee",
   "metadata": {
    "scrolled": true
   },
   "outputs": [
    {
     "data": {
      "text/plain": [
       "<AxesSubplot:xlabel='regional_timestamp'>"
      ]
     },
     "execution_count": 47,
     "metadata": {},
     "output_type": "execute_result"
    },
    {
     "data": {
      "image/png": "[encoded data removed]",
      "text/plain": [
       "<Figure size 432x288 with 1 Axes>"
      ]
     },
     "metadata": {
      "needs_background": "light"
     },
     "output_type": "display_data"
    }
   ],
   "source": [
    "Benchmark['realized_volatility'].plot.line()"
   ]
  },
  {
   "cell_type": "code",
   "execution_count": 48,
   "id": "464ecc79",
   "metadata": {},
   "outputs": [
    {
     "data": {
      "text/plain": [
       "<AxesSubplot:xlabel='regional_timestamp'>"
      ]
     },
     "execution_count": 48,
     "metadata": {},
     "output_type": "execute_result"
    },
    {
     "data": {
      "image/png": "[encoded data removed]",
      "text/plain": [
       "<Figure size 432x288 with 1 Axes>"
      ]
     },
     "metadata": {
      "needs_background": "light"
     },
     "output_type": "display_data"
    }
   ],
   "source": [
    "Benchmark['implied_volatility'].plot.line()"
   ]
  },
  {
   "cell_type": "code",
   "execution_count": 49,
   "id": "40c1638d",
   "metadata": {},
   "outputs": [
    {
     "data": {
      "text/plain": [
       "<AxesSubplot:xlabel='regional_timestamp'>"
      ]
     },
     "execution_count": 49,
     "metadata": {},
     "output_type": "execute_result"
    },
    {
     "data": {
      "image/png": "[encoded data removed]",
      "text/plain": [
       "<Figure size 432x288 with 1 Axes>"
      ]
     },
     "metadata": {
      "needs_background": "light"
     },
     "output_type": "display_data"
    }
   ],
   "source": [
    "Benchmark['difference'].plot.line()"
   ]
  },
  {
   "cell_type": "code",
   "execution_count": 50,
   "id": "f5a03d9c",
   "metadata": {},
   "outputs": [
    {
     "data": {
      "text/plain": [
       "<AxesSubplot:xlabel='regional_timestamp'>"
      ]
     },
     "execution_count": 50,
     "metadata": {},
     "output_type": "execute_result"
    },
    {
     "data": {
      "image/png": "[encoded data removed]",
      "text/plain": [
       "<Figure size 432x288 with 1 Axes>"
      ]
     },
     "metadata": {
      "needs_background": "light"
     },
     "output_type": "display_data"
    }
   ],
   "source": [
    "Benchmark['difference_lagged'].plot.line()"
   ]
  },
  {
   "cell_type": "code",
   "execution_count": 51,
   "id": "ed8ef96f",
   "metadata": {},
   "outputs": [
    {
     "data": {
      "text/plain": [
       "realized_volatility  implied_volatility  difference_lagged  difference\n",
       "True                 True                True               True          1184\n",
       "                                         False              True            31\n",
       "                     False               True               False           10\n",
       "dtype: int64"
      ]
     },
     "execution_count": 51,
     "metadata": {},
     "output_type": "execute_result"
    }
   ],
   "source": [
    "pd.notnull(Benchmark).value_counts()"
   ]
  },
  {
   "cell_type": "markdown",
   "id": "5f107d37",
   "metadata": {},
   "source": [
    "## Saving the Csvs"
   ]
  },
  {
   "cell_type": "code",
   "execution_count": 52,
   "id": "5c43520e",
   "metadata": {},
   "outputs": [],
   "source": [
    "# Saving for use in other notebook\n",
    "############################\n",
    "Volatility_combined.to_csv('Volatility.csv')\n",
    "############################\n",
    "Benchmark.to_csv('Benchmark.csv')\n",
    "############################\n"
   ]
  }
 ],
 "metadata": {
  "kernelspec": {
   "display_name": "Python 3",
   "language": "python",
   "name": "python3"
  },
  "language_info": {
   "codemirror_mode": {
    "name": "ipython",
    "version": 3
   },
   "file_extension": ".py",
   "mimetype": "text/x-python",
   "name": "python",
   "nbconvert_exporter": "python",
   "pygments_lexer": "ipython3",
   "version": "3.8.5"
  }
 },
 "nbformat": 4,
 "nbformat_minor": 5
}
